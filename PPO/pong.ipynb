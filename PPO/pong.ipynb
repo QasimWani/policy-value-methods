{
 "cells": [
  {
   "cell_type": "code",
   "execution_count": 1,
   "metadata": {},
   "outputs": [],
   "source": [
    "### Using PPO (Proximal Policy Optimization) to train PONG agent."
   ]
  },
  {
   "cell_type": "code",
   "execution_count": 2,
   "metadata": {},
   "outputs": [],
   "source": [
    "import gym\n",
    "import numpy as np\n",
    "import matplotlib.pyplot as plt\n",
    "import pandas as pd\n",
    "from PIL import Image\n",
    "import cv2\n",
    "from parallelEnv import parallelEnv\n",
    "import progressbar as pb\n",
    "\n",
    "import utils\n",
    "\n",
    "import torch\n",
    "import torch.nn as nn\n",
    "import torch.nn.functional as F\n",
    "import torch.optim as optim"
   ]
  },
  {
   "cell_type": "code",
   "execution_count": 3,
   "metadata": {},
   "outputs": [],
   "source": [
    "env = gym.make('PongDeterministic-v4')"
   ]
  },
  {
   "cell_type": "code",
   "execution_count": 4,
   "metadata": {},
   "outputs": [
    {
     "data": {
      "text/plain": [
       "Box(210, 160, 3)"
      ]
     },
     "execution_count": 4,
     "metadata": {},
     "output_type": "execute_result"
    }
   ],
   "source": [
    "env.observation_space #grid-space"
   ]
  },
  {
   "cell_type": "code",
   "execution_count": 5,
   "metadata": {},
   "outputs": [
    {
     "data": {
      "text/plain": [
       "['NOOP', 'FIRE', 'RIGHT', 'LEFT', 'RIGHTFIRE', 'LEFTFIRE']"
      ]
     },
     "execution_count": 5,
     "metadata": {},
     "output_type": "execute_result"
    }
   ],
   "source": [
    "env.unwrapped.get_action_meanings() #6 discrete actions"
   ]
  },
  {
   "cell_type": "code",
   "execution_count": 6,
   "metadata": {},
   "outputs": [],
   "source": [
    "device = torch.device(\"cuda:0\" if torch.cuda.is_available() else \"cpu\")"
   ]
  },
  {
   "cell_type": "markdown",
   "metadata": {},
   "source": [
    "## Preprocess image"
   ]
  },
  {
   "cell_type": "code",
   "execution_count": 7,
   "metadata": {},
   "outputs": [
    {
     "name": "stdout",
     "output_type": "stream",
     "text": [
      "Initial state shape: (210, 160, 3)\n"
     ]
    }
   ],
   "source": [
    "state = env.reset()#initial state\n",
    "print(\"Initial state shape:\", state.shape)\n",
    "\n",
    "for i in range(20):#play 20 frames\n",
    "    frame, _, _, _ = env.step(np.random.randint(0, env.action_space.n))"
   ]
  },
  {
   "cell_type": "code",
   "execution_count": 8,
   "metadata": {},
   "outputs": [
    {
     "data": {
      "image/png": "[encoded data removed]",
      "text/plain": [
       "<Figure size 432x288 with 2 Axes>"
      ]
     },
     "metadata": {
      "needs_background": "light"
     },
     "output_type": "display_data"
    }
   ],
   "source": [
    "plt.subplot(1,2,1)\n",
    "plt.imshow(frame)\n",
    "plt.title('original image')\n",
    "\n",
    "plt.subplot(1,2,2)\n",
    "plt.title('preprocessed image')\n",
    "# 80 x 80 black and white image\n",
    "plt.imshow(uticls.preprocess_single_frame(frame), cmap='Greys')\n",
    "plt.show()"
   ]
  },
  {
   "cell_type": "markdown",
   "metadata": {},
   "source": [
    "## Define Policy"
   ]
  },
  {
   "cell_type": "code",
   "execution_count": 9,
   "metadata": {},
   "outputs": [],
   "source": [
    "# Policy\n",
    "class Policy(nn.Module):\n",
    "    def __init__(self):\n",
    "        super(Policy, self).__init__()\n",
    "        \n",
    "        ## CNN architecture\n",
    "        #input_channel = 2 stacked frames, i.e. (80x80x2)\n",
    "        # outputsize = (inputsize - kernel_size(aka filter_size) + stride)/stride\n",
    "        # 80x80x2 --> 38x38x4 (Conv1)\n",
    "        self.conv1 = nn.Conv2d(in_channels=2, out_channels=4, kernel_size=6, stride=2, bias=False)\n",
    "        # 38x38x4 --> 9x9x16 (Conv2)\n",
    "        self.conv2 = nn.Conv2d(in_channels=4, out_channels=16, kernel_size=4, stride=4, bias=False)\n",
    "        # TODO: pooling layer\n",
    "        \n",
    "        # FC: 9x9x16 -> 9*9*16 = 1296\n",
    "        self.size = 9*9*16 #1296\n",
    "        \n",
    "        #FC layers\n",
    "        self.fc1 = nn.Linear(in_features=self.size, out_features=256)#standard model\n",
    "        self.fc2 = nn.Linear(in_features=256, out_features=1) #1 action, left or right\n",
    "        \n",
    "        # define sigmoid for output layer (classification problem, essentially)\n",
    "        self.sigmoid = nn.Sigmoid()\n",
    "    def forward(self, x):\n",
    "        \"\"\"\n",
    "        Performs feed forward one-pass convolution for a frame based on the following CNN architecture.\n",
    "        80x80x2 --> 38x38x4 (Conv)\n",
    "        38x38x4 --> 9x9x16  (Conv)\n",
    "        1296 --> 256        (FC)\n",
    "        256 --> 1           (FC)\n",
    "        sigmoid(1)          (output)\n",
    "        ----------\n",
    "        @Param:\n",
    "        1. x: 2 stacked frames of shape: (80x80x2)\n",
    "        @Return:\n",
    "        - out: probability of action (stochastic)\n",
    "        \"\"\"\n",
    "        x = F.relu(self.conv1(x))\n",
    "        x = F.relu(self.conv2(x))\n",
    "        x = x.view(-1,self.size) #flatten\n",
    "        x = F.relu(self.fc1(x))\n",
    "        out = self.sigmoid(self.fc2(x)) #stochastic\n",
    "        return out"
   ]
  },
  {
   "cell_type": "code",
   "execution_count": 10,
   "metadata": {},
   "outputs": [],
   "source": [
    "policy = Policy()"
   ]
  },
  {
   "cell_type": "code",
   "execution_count": 11,
   "metadata": {},
   "outputs": [
    {
     "name": "stdout",
     "output_type": "stream",
     "text": [
      "Policy(\n",
      "  (conv1): Conv2d(2, 4, kernel_size=(6, 6), stride=(2, 2), bias=False)\n",
      "  (conv2): Conv2d(4, 16, kernel_size=(4, 4), stride=(4, 4), bias=False)\n",
      "  (fc1): Linear(in_features=1296, out_features=256, bias=True)\n",
      "  (fc2): Linear(in_features=256, out_features=1, bias=True)\n",
      "  (sigmoid): Sigmoid()\n",
      ")\n"
     ]
    }
   ],
   "source": [
    "print(policy) #model architecture"
   ]
  },
  {
   "cell_type": "code",
   "execution_count": 12,
   "metadata": {},
   "outputs": [],
   "source": [
    "optimizer = optim.Adam(policy.parameters(), lr=1e-4) #Adam"
   ]
  },
  {
   "cell_type": "markdown",
   "metadata": {},
   "source": [
    "# PPO"
   ]
  },
  {
   "cell_type": "markdown",
   "metadata": {},
   "source": [
    "#### Part 1: Clipped Surrogate Function"
   ]
  },
  {
   "cell_type": "markdown",
   "metadata": {},
   "source": [
    "![Surrogate Function](https://miro.medium.com/max/1400/1*9pJbEtLftES-kgKeonxUYQ.png)"
   ]
  },
  {
   "cell_type": "markdown",
   "metadata": {},
   "source": [
    "![importance sampling ratio](https://i.stack.imgur.com/bCAEy.png)\n",
    "<br>\n",
    "![formula for clipped surrogate function](https://i.stack.imgur.com/zt9mz.png)"
   ]
  },
  {
   "cell_type": "markdown",
   "metadata": {},
   "source": [
    "### Part 2. Training"
   ]
  },
  {
   "cell_type": "code",
   "execution_count": 104,
   "metadata": {},
   "outputs": [
    {
     "name": "stderr",
     "output_type": "stream",
     "text": [
      "training loop: 100% |###########################################| Time: 0:00:37\n"
     ]
    }
   ],
   "source": [
    "# keep track of how long training takes\n",
    "\n",
    "# training loop max iterations\n",
    "episode = 500\n",
    "\n",
    "# widget bar to display progress\n",
    "widget = ['training loop: ', pb.Percentage(), ' ', \n",
    "          pb.Bar(), ' ', pb.ETA() ]\n",
    "timer = pb.ProgressBar(widgets=widget, maxval=episode).start()\n",
    "\n",
    "#load mulitple parallel agents\n",
    "envs = parallelEnv('PongDeterministic-v4', n=8, seed=1234)\n",
    "\n",
    "discount_rate = .99\n",
    "epsilon = 0.1\n",
    "beta = .01\n",
    "tmax = 320\n",
    "SGD_epoch = 4\n",
    "\n",
    "keep track of progress\n",
    "mean_rewards = []\n",
    "\n",
    "for e in range(episode):\n",
    "\n",
    "    # collect trajectories\n",
    "    old_probs, states, actions, rewards = utils.collect_trajectories(envs, policy, tmax=tmax)\n",
    "        \n",
    "    total_rewards = np.sum(rewards, axis=0)\n",
    "\n",
    "\n",
    "    # gradient ascent step\n",
    "    for _ in range(SGD_epoch):\n",
    "        \n",
    "        SAR = (states, actions, rewards)\n",
    "        L = -utils.clipped_surrogate(policy, old_probs, SAR, epsilon=epsilon, beta=beta)\n",
    "        optimizer.zero_grad()\n",
    "        L.backward()\n",
    "        optimizer.step()\n",
    "        del L\n",
    "    \n",
    "    # the clipping parameter reduces as time goes on\n",
    "    epsilon*=.999\n",
    "    \n",
    "    # the regulation term also reduces\n",
    "    # this reduces exploration in later runs\n",
    "    beta*=.995\n",
    "    \n",
    "    # get the average reward of the parallel environments\n",
    "    mean_rewards.append(np.mean(total_rewards))\n",
    "    \n",
    "    # display some progress every 50 iterations\n",
    "    if (e+1)%50 == 0 :\n",
    "        print(\"Episode: {0:d}, score: {1:f}\".format(e+1,np.mean(total_rewards)))\n",
    "        print(total_rewards)\n",
    "        \n",
    "    # update progress widget bar\n",
    "    timer.update(e+1)\n",
    "    \n",
    "timer.finish()"
   ]
  },
  {
   "cell_type": "code",
   "execution_count": 60,
   "metadata": {},
   "outputs": [],
   "source": [
    "env.reset()\n",
    "R = []\n",
    "for i in range(1000):#play 20 frames\n",
    "    frame, r, done, _ = env.step(np.random.randint(4, env.action_space.n))\n",
    "    env.render()\n",
    "    R.append(r)\n",
    "    if(done):\n",
    "        break"
   ]
  },
  {
   "cell_type": "code",
   "execution_count": 35,
   "metadata": {},
   "outputs": [],
   "source": [
    "RIGHT = 4; LEFT = 5"
   ]
  },
  {
   "cell_type": "code",
   "execution_count": 36,
   "metadata": {},
   "outputs": [],
   "source": [
    "import time"
   ]
  },
  {
   "cell_type": "code",
   "execution_count": 54,
   "metadata": {},
   "outputs": [
    {
     "name": "stdout",
     "output_type": "stream",
     "text": [
      "-1.0\n"
     ]
    }
   ],
   "source": [
    "env.reset()\n",
    "env.step(1)\n",
    "total_reward = 0\n",
    "time.sleep(10)\n",
    "# perform nrand random steps in the beginning\n",
    "for _ in range(5):\n",
    "    frame1, reward1, is_done, _ = env.step(np.random.choice([RIGHT,LEFT]))\n",
    "    frame2, reward2, is_done, _ = env.step(0)\n",
    "\n",
    "for _ in range(3000):\n",
    "\n",
    "    frame_input = utils.preprocess_batch([frame1, frame2])\n",
    "    prob = policy(frame_input)\n",
    "#     time.sleep(0.05)\n",
    "\n",
    "    # RIGHT = 4, LEFT = 5\n",
    "    action = RIGHT if np.random.rand() < prob else LEFT\n",
    "    frame1, r, is_done, _ = env.step(action)\n",
    "    frame2, _, is_done, _ = env.step(0)\n",
    "    total_reward += r\n",
    "    env.render()\n",
    "\n",
    "    if is_done:\n",
    "        break\n",
    "        \n",
    "print(total_reward)"
   ]
  },
  {
   "cell_type": "markdown",
   "metadata": {},
   "source": [
    "# Save model weights"
   ]
  },
  {
   "cell_type": "code",
   "execution_count": 97,
   "metadata": {},
   "outputs": [],
   "source": [
    "torch.save(policy.state_dict(), \"model_2.pth\")"
   ]
  },
  {
   "cell_type": "code",
   "execution_count": 13,
   "metadata": {},
   "outputs": [],
   "source": [
    "load_weights = torch.load(\"model_2.pth\")"
   ]
  },
  {
   "cell_type": "code",
   "execution_count": 14,
   "metadata": {},
   "outputs": [],
   "source": [
    "policy.load_state_dict(load_weights)"
   ]
  },
  {
   "cell_type": "code",
   "execution_count": 108,
   "metadata": {},
   "outputs": [],
   "source": [
    "param = np.array(list(policy.parameters()))"
   ]
  },
  {
   "cell_type": "code",
   "execution_count": 114,
   "metadata": {},
   "outputs": [
    {
     "name": "stdout",
     "output_type": "stream",
     "text": [
      "Trained on 519 episodes, mean score of (last 50 ep.): 4.4425\n"
     ]
    }
   ],
   "source": [
    "print(f\"Trained on {len(mean_rewards)} episodes, mean score of (last 50 ep.): {np.array(mean_rewards[-50:]).mean()}\")"
   ]
  },
  {
   "cell_type": "code",
   "execution_count": 107,
   "metadata": {},
   "outputs": [
    {
     "data": {
      "image/png": "[encoded data removed]",
      "text/plain": [
       "<Figure size 432x288 with 1 Axes>"
      ]
     },
     "metadata": {
      "needs_background": "light"
     },
     "output_type": "display_data"
    }
   ],
   "source": [
    "plt.plot(mean_rewards)\n",
    "plt.xlabel(\"Episode #\")\n",
    "plt.ylabel(\"Agent Score\")\n",
    "plt.show()"
   ]
  },
  {
   "cell_type": "markdown",
   "metadata": {},
   "source": [
    "## SOLVED!"
   ]
  }
 ],
 "metadata": {
  "kernelspec": {
   "display_name": "Python 3",
   "language": "python",
   "name": "python3"
  },
  "language_info": {
   "codemirror_mode": {
    "name": "ipython",
    "version": 3
   },
   "file_extension": ".py",
   "mimetype": "text/x-python",
   "name": "python",
   "nbconvert_exporter": "python",
   "pygments_lexer": "ipython3",
   "version": "3.7.3"
  }
 },
 "nbformat": 4,
 "nbformat_minor": 4
}
