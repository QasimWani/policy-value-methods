{
 "cells": [
  {
   "cell_type": "code",
   "execution_count": 1,
   "metadata": {},
   "outputs": [],
   "source": [
    "### Using PPO (Proximal Policy Optimization) algorithm to converge to optimal policy"
   ]
  },
  {
   "cell_type": "code",
   "execution_count": 2,
   "metadata": {},
   "outputs": [],
   "source": [
    "import gym\n",
    "import numpy as np\n",
    "import matplotlib.pyplot as plt\n",
    "import pandas as pd\n",
    "from PIL import Image\n",
    "import cv2\n",
    "\n",
    "import torch\n",
    "import torch.nn as nn\n",
    "import torch.nn.functional as F\n",
    "import torch.optim as optim\n",
    "from torchsummary import summary"
   ]
  },
  {
   "cell_type": "code",
   "execution_count": 3,
   "metadata": {},
   "outputs": [],
   "source": [
    "env = gym.make('PongDeterministic-v4')"
   ]
  },
  {
   "cell_type": "code",
   "execution_count": 4,
   "metadata": {},
   "outputs": [
    {
     "data": {
      "text/plain": [
       "Box(210, 160, 3)"
      ]
     },
     "execution_count": 4,
     "metadata": {},
     "output_type": "execute_result"
    }
   ],
   "source": [
    "env.observation_space #grid-space"
   ]
  },
  {
   "cell_type": "code",
   "execution_count": 5,
   "metadata": {},
   "outputs": [
    {
     "data": {
      "text/plain": [
       "['NOOP', 'FIRE', 'RIGHT', 'LEFT', 'RIGHTFIRE', 'LEFTFIRE']"
      ]
     },
     "execution_count": 5,
     "metadata": {},
     "output_type": "execute_result"
    }
   ],
   "source": [
    "env.unwrapped.get_action_meanings() #6 discrete actions"
   ]
  },
  {
   "cell_type": "code",
   "execution_count": 6,
   "metadata": {},
   "outputs": [],
   "source": [
    "## Utils\n",
    "\n",
    "def preprocess_single_frame(image, bkg_color = np.array([144, 72, 17])):\n",
    "    \"\"\"\n",
    "    Converts an image from RGB channel to B&W channels.\n",
    "    Also performs downscale to 80x80. Performs normalization.\n",
    "    @Param:\n",
    "    1. image: (array_like) input image. shape = (210, 160, 3)\n",
    "    2. bkg_color: (np.array) standard encoding for brown in RGB with alpha = 0.0\n",
    "    @Return:\n",
    "    - img: (array_like) B&W, downscaled, normalized image of shape (80x80)\n",
    "    \"\"\"\n",
    "    img = np.mean(image[34:-16:2,::2]-bkg_color, axis=-1)/255.\n",
    "    return img"
   ]
  },
  {
   "cell_type": "markdown",
   "metadata": {},
   "source": [
    "## Preprocess image"
   ]
  },
  {
   "cell_type": "code",
   "execution_count": 7,
   "metadata": {},
   "outputs": [
    {
     "name": "stdout",
     "output_type": "stream",
     "text": [
      "Initial state shape: (210, 160, 3)\n"
     ]
    }
   ],
   "source": [
    "state = env.reset()#initial state\n",
    "print(\"Initial state shape:\", state.shape)\n",
    "\n",
    "for i in range(20):#play 20 frames\n",
    "    frame, _, _, _ = env.step(np.random.randint(0, env.action_space.n))"
   ]
  },
  {
   "cell_type": "code",
   "execution_count": 8,
   "metadata": {},
   "outputs": [
    {
     "data": {
      "image/png": "[encoded data removed]",
      "text/plain": [
       "<Figure size 432x288 with 2 Axes>"
      ]
     },
     "metadata": {
      "needs_background": "light"
     },
     "output_type": "display_data"
    }
   ],
   "source": [
    "plt.subplot(1,2,1)\n",
    "plt.imshow(frame)\n",
    "plt.title('original image')\n",
    "\n",
    "plt.subplot(1,2,2)\n",
    "plt.title('preprocessed image')\n",
    "# 80 x 80 black and white image\n",
    "plt.imshow(preprocess_single_frame(frame), cmap='Greys')\n",
    "plt.show()"
   ]
  },
  {
   "cell_type": "markdown",
   "metadata": {},
   "source": [
    "## Define Policy"
   ]
  },
  {
   "cell_type": "code",
   "execution_count": 29,
   "metadata": {},
   "outputs": [],
   "source": [
    "# Policy\n",
    "class Policy(nn.Module):\n",
    "    def __init__(self):\n",
    "        super(Policy, self).__init__()\n",
    "        \n",
    "        ## CNN architecture\n",
    "        #input_channel = 2 stacked frames, i.e. (80x80x2)\n",
    "        # outputsize = (inputsize - kernel_size(aka filter_size) + stride)/stride\n",
    "        # 80x80x2 --> 38x38x4 (Conv1)\n",
    "        self.conv1 = nn.Conv2d(in_channels=2, out_channels=4, kernel_size=6, stride=2, bias=False)\n",
    "        # 38x38x4 --> 9x9x16 (Conv2)\n",
    "        self.conv2 = nn.Conv2d(in_channels=4, out_channels=16, kernel_size=4, stride=4, bias=False)\n",
    "        # TODO: pooling layer\n",
    "        \n",
    "        # FC: 9x9x16 -> 9*9*16 = 1296\n",
    "        self.size = 9*9*16 #1296\n",
    "        \n",
    "        #FC layers\n",
    "        self.fc1 = nn.Linear(in_features=self.size, out_features=256)#standard model\n",
    "        self.fc2 = nn.Linear(in_features=256, out_features=1) #1 action, left or right\n",
    "        \n",
    "        # define sigmoid for output layer (classification problem, essentially)\n",
    "        self.sigmoid = nn.Sigmoid()\n",
    "    def forward(self, x):\n",
    "        \"\"\"\n",
    "        Performs feed forward one-pass convolution for a frame based on the following CNN architecture.\n",
    "        80x80x2 --> 38x38x4 (Conv)\n",
    "        38x38x4 --> 9x9x16  (Conv)\n",
    "        1296 --> 256        (FC)\n",
    "        256 --> 1           (FC)\n",
    "        sigmoid(1)          (output)\n",
    "        ----------\n",
    "        @Param:\n",
    "        1. x: 2 stacked frames of shape: (80x80x2)\n",
    "        @Return:\n",
    "        - out: probability of action (stochastic)\n",
    "        \"\"\"\n",
    "        x = F.relu(self.conv1(x))\n",
    "        x = F.relu(self.conv2(x))\n",
    "        x = x.view(-1,self.size) #flatten\n",
    "        x = F.relu(self.fc1(x))\n",
    "        out = self.sigmoid(self.fc2(x)) #stochastic\n",
    "        return out"
   ]
  },
  {
   "cell_type": "code",
   "execution_count": 30,
   "metadata": {},
   "outputs": [],
   "source": [
    "policy = Policy()"
   ]
  },
  {
   "cell_type": "code",
   "execution_count": 31,
   "metadata": {},
   "outputs": [
    {
     "name": "stdout",
     "output_type": "stream",
     "text": [
      "Policy(\n",
      "  (conv1): Conv2d(2, 4, kernel_size=(6, 6), stride=(2, 2), bias=False)\n",
      "  (conv2): Conv2d(4, 16, kernel_size=(4, 4), stride=(4, 4), bias=False)\n",
      "  (fc1): Linear(in_features=1296, out_features=256, bias=True)\n",
      "  (fc2): Linear(in_features=256, out_features=1, bias=True)\n",
      "  (sigmoid): Sigmoid()\n",
      ")\n"
     ]
    }
   ],
   "source": [
    "print(policy) #model architecture"
   ]
  },
  {
   "cell_type": "markdown",
   "metadata": {},
   "source": [
    "# PPO"
   ]
  },
  {
   "cell_type": "code",
   "execution_count": null,
   "metadata": {},
   "outputs": [],
   "source": [
    "# Todo"
   ]
  }
 ],
 "metadata": {
  "kernelspec": {
   "display_name": "Python 3",
   "language": "python",
   "name": "python3"
  },
  "language_info": {
   "codemirror_mode": {
    "name": "ipython",
    "version": 3
   },
   "file_extension": ".py",
   "mimetype": "text/x-python",
   "name": "python",
   "nbconvert_exporter": "python",
   "pygments_lexer": "ipython3",
   "version": "3.7.6"
  }
 },
 "nbformat": 4,
 "nbformat_minor": 4
}
