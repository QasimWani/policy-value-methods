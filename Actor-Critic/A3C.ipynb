{
 "cells": [
  {
   "cell_type": "markdown",
   "metadata": {},
   "source": [
    "### Use the Asynchronous Advantage Actor Critic (A3C) Policy Gradient Method to solve Breakout"
   ]
  },
  {
   "cell_type": "code",
   "execution_count": 1,
   "metadata": {},
   "outputs": [],
   "source": [
    "import gym\n",
    "import numpy as np\n",
    "import matplotlib.pyplot as plt\n",
    "from scipy.signal import lfilter\n",
    "from collections import deque\n",
    "import progressbar as pb\n",
    "import time\n",
    "\n",
    "import torch\n",
    "import torch.nn as nn\n",
    "import torch.nn.functional as F\n",
    "import torch.optim as optim\n",
    "from parallelEnv import parallelEnv"
   ]
  },
  {
   "cell_type": "code",
   "execution_count": 37,
   "metadata": {},
   "outputs": [],
   "source": [
    "env_id = 'Breakout-v4'\n",
    "env = gym.make(env_id)"
   ]
  },
  {
   "cell_type": "code",
   "execution_count": 38,
   "metadata": {},
   "outputs": [
    {
     "data": {
      "text/plain": [
       "Box(210, 160, 3)"
      ]
     },
     "execution_count": 38,
     "metadata": {},
     "output_type": "execute_result"
    }
   ],
   "source": [
    "env.observation_space"
   ]
  },
  {
   "cell_type": "code",
   "execution_count": 4,
   "metadata": {},
   "outputs": [
    {
     "name": "stdout",
     "output_type": "stream",
     "text": [
      "Actions:Discrete(6)\n",
      "Meanings:['NOOP', 'FIRE', 'RIGHT', 'LEFT', 'RIGHTFIRE', 'LEFTFIRE']\n"
     ]
    }
   ],
   "source": [
    "print(f\"Actions:{env.action_space}\\nMeanings:{env.unwrapped.get_action_meanings()}\")"
   ]
  },
  {
   "cell_type": "code",
   "execution_count": 5,
   "metadata": {},
   "outputs": [],
   "source": [
    "device = torch.device(\"cuda:0\" if torch.cuda.is_available() else \"cpu\") #convert to GPU if available"
   ]
  },
  {
   "cell_type": "markdown",
   "metadata": {},
   "source": [
    "## Preprocess Image"
   ]
  },
  {
   "cell_type": "code",
   "execution_count": 6,
   "metadata": {},
   "outputs": [],
   "source": [
    "## Utils\n",
    "def preprocess_single_frame(image, bkg_color = np.array([144, 72, 17])):\n",
    "    \"\"\"\n",
    "    Converts an image from RGB channel to B&W channels.\n",
    "    Also performs downscale to 80x80. Performs normalization.\n",
    "    @Param:\n",
    "    1. image: (array_like) input image. shape = (210, 160, 3)\n",
    "    2. bkg_color: (np.array) standard encoding for brown in RGB with alpha = 0.0\n",
    "    @Return:\n",
    "    - img: (array_like) B&W, downscaled, normalized image of shape (80x80)\n",
    "    \"\"\"\n",
    "    img = np.mean(image[35:195:2,::2]-bkg_color, axis=-1)/255.\n",
    "    return img\n",
    "\n",
    "#Utils\n",
    "def preprocess_batch(images, bkg_color = np.array([144, 72, 17])):\n",
    "    \"\"\"\n",
    "    convert outputs of parallelEnv to inputs to pytorch neural net\"\"\"\n",
    "    list_of_images = np.asarray(images)\n",
    "    if len(list_of_images.shape) < 5:\n",
    "        list_of_images = np.expand_dims(list_of_images, 1)\n",
    "    # subtract bkg and crop\n",
    "    list_of_images_prepro = np.mean(list_of_images[:,:,34:-16:2,::2]-bkg_color,\n",
    "                                    axis=-1)/255.\n",
    "    batch_input = np.swapaxes(list_of_images_prepro,0,1)\n",
    "    return torch.from_numpy(batch_input).float().to(device)"
   ]
  },
  {
   "cell_type": "code",
   "execution_count": 7,
   "metadata": {},
   "outputs": [],
   "source": [
    "state = env.reset()\n",
    "for _ in range(20):#skip 20 frames\n",
    "    frame, _, _, _ = env.step(np.random.randint(0, env.action_space.n))"
   ]
  },
  {
   "cell_type": "code",
   "execution_count": 8,
   "metadata": {},
   "outputs": [
    {
     "data": {
      "image/png": "[encoded data removed]",
      "text/plain": [
       "<Figure size 432x288 with 2 Axes>"
      ]
     },
     "metadata": {
      "needs_background": "light"
     },
     "output_type": "display_data"
    }
   ],
   "source": [
    "#Plot processed and raw image\n",
    "plt.subplot(1,2,1)\n",
    "plt.imshow(frame)\n",
    "plt.title('original image')\n",
    "\n",
    "plt.subplot(1,2,2)\n",
    "plt.title('preprocessed image')\n",
    "# 80 x 80 black and white image\n",
    "plt.imshow(preprocess_single_frame(frame), cmap='Greys')\n",
    "plt.show()"
   ]
  },
  {
   "cell_type": "markdown",
   "metadata": {},
   "source": [
    "# Actor-Critic"
   ]
  },
  {
   "cell_type": "markdown",
   "metadata": {},
   "source": [
    "![actor critic achitecture](https://www.mdpi.com/energies/energies-09-00725/article_deploy/html/images/energies-09-00725-g001-1024.png)"
   ]
  },
  {
   "cell_type": "code",
   "execution_count": 9,
   "metadata": {},
   "outputs": [],
   "source": [
    "#DEFINE Constants\n",
    "GAMMA = 0.99\n",
    "TAU = 1.0\n",
    "LR = 0.5*1e-4\n",
    "MAX_EPISODE_LENGTH = 1e8\n",
    "BETA = 0.01 #entropy coefficient"
   ]
  },
  {
   "cell_type": "code",
   "execution_count": 10,
   "metadata": {},
   "outputs": [],
   "source": [
    "class ActorCritic(nn.Module):\n",
    "    def __init__(self, action_size=4, num_frames=2):\n",
    "        super(ActorCritic, self).__init__()\n",
    "        self.action_size = action_size\n",
    "        \n",
    "        #Define the CNN for Actor & Critic\n",
    "        self.conv1 = nn.Conv2d(num_frames, 32, 3, stride=2, padding=1) #output = 40x40x32\n",
    "        self.conv2 = nn.Conv2d(32, 32, 3, stride=2, padding=1) #output = 20x20x32\n",
    "        self.conv3 = nn.Conv2d(32, 32, 3, stride=2, padding=1) #output = 10x10x32\n",
    "        self.conv4 = nn.Conv2d(32, 32, 3, stride=2, padding=1) #output = 5x5x32\n",
    "        \n",
    "        self.size = 5*5*32 #800\n",
    "\n",
    "        #FC layer\n",
    "        self.lstm = nn.LSTMCell(input_size=self.size, hidden_size=256)#lstm cell to prevent vanishing gradients\n",
    "        \n",
    "        # Define Actor and Critic network\n",
    "        # Critic evaluates the state value function, V(π) using TD estimate.\n",
    "        # Actor evaluates the policy π(a|s) distribution\n",
    "        \n",
    "        self.critic_linear, self.actor_linear = nn.Linear(256, 1), nn.Linear(256, self.action_size)\n",
    "        \n",
    "    def forward(self, x, hx, cx):\n",
    "        \"\"\"\n",
    "        Peforms one-pass for the Conv layers.\n",
    "        @Param:\n",
    "        1. x - shape: (2, 80, 80); 2 stacked frames of 80x80 images\n",
    "        2. hx - hidden state of the RNN. shape: (1x256)\n",
    "        3. cx - confidence state of the RNN. shape: (1x256)\n",
    "        @Return:\n",
    "        1. critic estimated value, V(π)\n",
    "        2. actor policy distribution, π(a|s) as logits\n",
    "        \"\"\"\n",
    "        #4 conv nets without max pool layers, simple Relu activation f(x)\n",
    "        x = F.relu(self.conv1(x))\n",
    "        x = F.relu(self.conv2(x))\n",
    "        x = F.relu(self.conv3(x))\n",
    "        x = F.relu(self.conv4(x))\n",
    "        x = x.view(-1,self.size) #flatten\n",
    "        hx, cx = self.lstm(x, (hx, cx)) #dynamic calculation for final confidence & hidden state\n",
    "        value = self.critic_linear(hx) #CRITIC: calculates estimated state value function, V(π)\n",
    "        logits = self.actor_linear(hx) #ACTOR:  calculates policy distribution π(a|s)\n",
    "        \n",
    "        return logits, value, hx, cx"
   ]
  },
  {
   "cell_type": "code",
   "execution_count": 11,
   "metadata": {},
   "outputs": [],
   "source": [
    "main_model = ActorCritic(num_frames=1)"
   ]
  },
  {
   "cell_type": "code",
   "execution_count": 12,
   "metadata": {},
   "outputs": [
    {
     "data": {
      "text/plain": [
       "ActorCritic(\n",
       "  (conv1): Conv2d(1, 32, kernel_size=(3, 3), stride=(2, 2), padding=(1, 1))\n",
       "  (conv2): Conv2d(32, 32, kernel_size=(3, 3), stride=(2, 2), padding=(1, 1))\n",
       "  (conv3): Conv2d(32, 32, kernel_size=(3, 3), stride=(2, 2), padding=(1, 1))\n",
       "  (conv4): Conv2d(32, 32, kernel_size=(3, 3), stride=(2, 2), padding=(1, 1))\n",
       "  (lstm): LSTMCell(800, 256)\n",
       "  (critic_linear): Linear(in_features=256, out_features=1, bias=True)\n",
       "  (actor_linear): Linear(in_features=256, out_features=4, bias=True)\n",
       ")"
      ]
     },
     "execution_count": 12,
     "metadata": {},
     "output_type": "execute_result"
    }
   ],
   "source": [
    "main_model"
   ]
  },
  {
   "cell_type": "markdown",
   "metadata": {},
   "source": [
    "# Optimizer\n",
    "<p> A critical component to an A3C model is the ability to share parameters across\n",
    "    multiple agents running asynchronously such that they can collectively learn from\n",
    "    each other. This is done by the cross-integration (sharing) of gradients across all processes.\n",
    "</p>"
   ]
  },
  {
   "cell_type": "code",
   "execution_count": 13,
   "metadata": {},
   "outputs": [],
   "source": [
    "class SharedOptimizer(optim.Adam):\n",
    "    \"\"\"Implementation of shared parameter model using Adam optimizer\"\"\"\n",
    "    def __init__(self, params, lr=1e-3, betas=(0.9, 0.999), eps=1e-8, weight_decay=0):\n",
    "        super(SharedOptimizer, self).__init__(params, lr, betas, eps, weight_decay)\n",
    "        for group in self.param_groups:\n",
    "            for p in group['params']:\n",
    "                state = self.state[p]\n",
    "                state['shared_steps'], state['step'] = torch.zeros(1).share_memory_(), 0\n",
    "                state['exp_avg'] = p.data.new().resize_as_(p.data).zero_().share_memory_()\n",
    "                state['exp_avg_sq'] = p.data.new().resize_as_(p.data).zero_().share_memory_()\n",
    "                \n",
    "        def step(self, closure=None):\n",
    "            for group in self.param_groups:\n",
    "                for p in group['params']:\n",
    "                    if p.grad is None: continue\n",
    "                    self.state[p]['shared_steps'] += 1\n",
    "                    self.state[p]['step'] = self.state[p]['shared_steps'][0] - 1 # a \"step += 1\"  comes later\n",
    "            super.step(closure)"
   ]
  },
  {
   "cell_type": "code",
   "execution_count": 14,
   "metadata": {},
   "outputs": [],
   "source": [
    "optimizer = SharedOptimizer(main_model.parameters()) #define optimizer (uses Adam, instead of SGD)"
   ]
  },
  {
   "cell_type": "markdown",
   "metadata": {},
   "source": [
    "## Generalized Advantage Estimator \n",
    "<br>\n",
    "<p>\n",
    "    Generalized Advantage Estimator (GAE) helps us pick the best value for N-step boostrapping\n",
    "    by incorporating λ as an added hyper-parameter to tune accordingly that will minimize the\n",
    "    bias-variance tradeoff.\n",
    "    <br>\n",
    "    The derivation can be thought of as <a href=\"https://danieltakeshi.github.io/2017/04/02/notes-on-the-generalized-advantage-estimation-paper/#the-generalized-advantage-estimator\">the exponentially-decayed sum of residual terms.</a>\n",
    "</p>\n",
    "<p><strong>See the following <a href=\"https://arxiv.org/pdf/1506.02438.pdf\">derivation</a> for GAE estimator:</strong></p>"
   ]
  },
  {
   "cell_type": "markdown",
   "metadata": {},
   "source": [
    "![GAE Derivation](https://res.cloudinary.com/crammer/image/upload/v1596251771/Screen_Shot_2020-07-31_at_11.15.47_PM_feuhld.png)"
   ]
  },
  {
   "cell_type": "code",
   "execution_count": 15,
   "metadata": {},
   "outputs": [],
   "source": [
    "discount = lambda x, gamma: lfilter([1],[1,-gamma],x[::-1])[::-1] # computes discounted reward"
   ]
  },
  {
   "cell_type": "code",
   "execution_count": 16,
   "metadata": {},
   "outputs": [],
   "source": [
    "def compute_cost(values, log_probs, actions, rewards, n=8):\n",
    "    \"\"\"\n",
    "    Calculates the policy (actor) and value (critic) loss\n",
    "    @Param:\n",
    "    1. values: (tensor) list of V(s) estimator, critic.\n",
    "    2. log_probs: (tensor) list of π(a|s) softmax output, actor.\n",
    "    3. actions: (tensor) actions taken from rollout of trajectory.\n",
    "    4. rewards: (tensor) rewards based on S,A pairs. true values, used to minimize loss.\n",
    "    5. gae_lambda: (float) [0-1] value of lambda for residual calculation. used in N-step bootstrap.\n",
    "    6. n: (int) number of parallel agents.\n",
    "    @Return:\n",
    "    - value_loss: (tensor) critic loss.\n",
    "    - policy_loss: (tensor) actor loss.\n",
    "    \"\"\"\n",
    "    np_values = values.view(-1).data.numpy() #convert torch.tensor to numpy array & flatten/reshape it\n",
    "    #implement GAE\n",
    "    rewards = torch.tensor(rewards).view(-1,1).squeeze(-1) # (20x8) --> (160)\n",
    "    delta_t =  + GAMMA * (np_values[n:] - np_values[:-n])\n",
    "    \n",
    "    log_probs = log_probs.gather(1, torch.tensor(actions).view(-1,1))\n",
    "    gae = discount(delta_t, GAMMA * TAU)#calculate Generative Advantage Estimate\n",
    "\n",
    "    #calculate policy_loss = -log( π(a|s) ) * ( R - V(s) )\n",
    "    policy_loss = -(log_probs.view(-1) * torch.FloatTensor(gae.copy())).sum()\n",
    "    \n",
    "    # l2 loss over value estimator\n",
    "    rewards[-1] += GAMMA * np_values[-n]\n",
    "    discounted_r = discount(np.asarray(rewards), GAMMA)\n",
    "    discounted_r = torch.tensor(discounted_r.copy(), dtype=torch.float32)\n",
    "    \n",
    "    value_loss = 0.5*(discounted_r - values[:-n,0]).pow(2).sum()\n",
    "\n",
    "    entropy_loss = (-log_probs * torch.exp(log_probs)).sum() # entropy = ∑ -log(π(a|s))*e^(log(π(a|s)))\n",
    "    return policy_loss + 0.5 * value_loss - BETA * entropy_loss\n",
    "#     return policy_loss - value_loss -  BETA * entropy_loss #total loss"
   ]
  },
  {
   "cell_type": "markdown",
   "metadata": {},
   "source": [
    "## Train"
   ]
  },
  {
   "cell_type": "code",
   "execution_count": 17,
   "metadata": {},
   "outputs": [],
   "source": [
    "# Utils\n",
    "def sync_models(model, shared_model, i, pprint):\n",
    "    \"\"\"\n",
    "    Syncs the gradients from local model to shared model as a critical part of the A3C algorithm.\n",
    "    Updates the pointer based reference.\n",
    "    @param:\n",
    "    1. model: local model to sync from.\n",
    "    2. shared_model: global model to sync into.\n",
    "    3. i: episode number. Used in calculation of when to save the local model.\n",
    "    4. pprint: model iteration to save, i.e. saves model when i%pprint = 0.\n",
    "    \"\"\"\n",
    "    if(i%pprint == 0): #Save weights\n",
    "        model_path = \"models/model_\" + str(i//pprint) + \"_.pth\"\n",
    "        torch.save(model.state_dict(), model_path)\n",
    "        \n",
    "    for local_param, shared_param in zip(model.parameters(), shared_model.parameters()):\n",
    "        if(shared_param.grad is not None):\n",
    "            return\n",
    "        shared_param.grad = local_param.grad #sync"
   ]
  },
  {
   "cell_type": "code",
   "execution_count": 18,
   "metadata": {},
   "outputs": [],
   "source": [
    "def get_stacked_frame(envs, n, reset=True):\n",
    "    \"\"\"\n",
    "    Returns a 1x2x80x80 tensor by concatenating 2 processed frames.\n",
    "    @Param:\n",
    "    - reset: (boolean, optional) if True, gets the first 2 frames of the env.\n",
    "    @return:\n",
    "    - state: a 1x2x80x80 torch.Tensor\n",
    "    - frame0: first frame of size 80x80 \n",
    "    - frame1: second frame of size 80x80 \n",
    "    \"\"\"\n",
    "    frame0 = envs.reset()\n",
    "#     frame1,_,_,_ = envs.step([1]*n) #fire\n",
    "    state = preprocess_batch([frame0]) #nx1x80x80 tensor\n",
    "    return state, frame0"
   ]
  },
  {
   "cell_type": "code",
   "execution_count": 39,
   "metadata": {},
   "outputs": [],
   "source": [
    "def train(shared_model, envs, optimizer=None, num_episode=1000, num_steps=50, print_every=100):\n",
    "    \"\"\"\n",
    "    Train A3C agent.\n",
    "    @Param:\n",
    "    1. shared_model: instance of ActorCritic class, globally shared model across all parallel agents.\n",
    "    2. envs: parallel agents.\n",
    "    3. optimizer: instance of SharedOptimizer class, default = None (created as local object).\n",
    "    4. num_episode: (int) number of episodes to train for.\n",
    "    5. num_steps: (int) number of forward pass to pass through. default = 20.\n",
    "    6. print_every: (int) display statistics & save weights every n episodes. default = 100.\n",
    "    @Return:\n",
    "    - overall_reward: total reward per episode.\n",
    "    - overall_cost: total cost based on the custom loss function over num_episode.\n",
    "    - loss_deque: the N most recent loss values. default = 100.\n",
    "    \"\"\"\n",
    "    # widget bar to display progress\n",
    "    widget = ['training loop: ', pb.Percentage(), ' ', \n",
    "              pb.Bar(), ' ', pb.ETA() ]\n",
    "    timer = pb.ProgressBar(widgets=widget, maxval=num_episode).start()\n",
    "    \n",
    "    # number of parallel instances\n",
    "    n = len(envs.ps)\n",
    "    \n",
    "    model = ActorCritic(num_frames=1) #local model\n",
    "    \n",
    "    if(optimizer is None):#create optimizer\n",
    "        optimizer = SharedOptimizer(shared_model.parameters(), lr=LR)\n",
    "    \n",
    "    model.train()#Set the local model in training mode\n",
    "    \n",
    "    #Extract stacked frames\n",
    "    \n",
    "    state, frame0 = get_stacked_frame(envs, n)# (nx2x80x80) Tensor\n",
    "    episode_length = 0\n",
    "    done = np.full(8, True)\n",
    "    \n",
    "    #return metrics\n",
    "    overall_reward = []\n",
    "    overall_cost = []\n",
    "    loss_deque = deque(maxlen=100)\n",
    "    score_deque = deque(maxlen=100)\n",
    "    \n",
    "    for i in range(1, num_episode+1):\n",
    "        model.load_state_dict(shared_model.state_dict()) #syncs the shared model with the local model\n",
    "            \n",
    "        if done.any():\n",
    "            cx, hx = torch.zeros(n, 256), torch.zeros(n, 256)\n",
    "        else:\n",
    "            cx = cx.detach()\n",
    "            hx = hx.detach()\n",
    "        \n",
    "        values = []; log_probs = []; rewards = []; actions = []\n",
    "        for step in range(num_steps):\n",
    "            episode_length += 1\n",
    "            logits, value, hx, cx = model(state, hx, cx)\n",
    "            prob = F.softmax(logits, dim=-1)\n",
    "            log_prob = F.log_softmax(logits, dim=-1)\n",
    "            \n",
    "            action = [torch.exp(log_prob[i]).multinomial(num_samples=1).item() for i in range(n)]\n",
    "            frame0, reward, done, _ = envs.step([action]*n)\n",
    "#             frame1, r, done, _ = envs.step([0]*n)\n",
    "\n",
    "            #stack frames to an nx2x80x80 Tensor\n",
    "            state = preprocess_batch([frame0])\n",
    "            \n",
    "            #update data\n",
    "            values.append(value.detach())\n",
    "            log_probs.append(log_prob)\n",
    "            rewards.append(reward)\n",
    "            actions.append(action)\n",
    "                        \n",
    "            if done.any() or episode_length > MAX_EPISODE_LENGTH:\n",
    "                episode_length = 0\n",
    "                state, frame0 = get_stacked_frame(envs, n)#nx2x80x80 Tensor\n",
    "                break\n",
    "        overall_reward.append(sum(rewards)) #cumulitive reward per episode\n",
    "        score_deque.append(overall_reward) #last 100 score\n",
    "    \n",
    "        #Solves broadcasting error\n",
    "        next_value = torch.zeros(n,1) if done.any() else model(state, hx, cx)[1] #return value\n",
    "        values.append(next_value.detach())\n",
    "\n",
    "        #compute loss\n",
    "        loss = -compute_cost(torch.cat(values), torch.cat(log_probs), actions, rewards, n=n)\n",
    "        overall_cost.append(loss.item())\n",
    "        loss_deque.append(loss.item()) #last 100 losses\n",
    "        if(i%print_every == 0):\n",
    "            print(\"Episode: {0:d}, cost: {1:f}, score: {2:f}\".format(i,np.mean(loss_deque), np.mean(score_deque)))\n",
    "            print(overall_reward[-1])\n",
    "        # update progress widget bar\n",
    "        timer.update(i)\n",
    "        \n",
    "        optimizer.zero_grad()#reset gradient\n",
    "        loss.backward() #perform backprop\n",
    "\n",
    "        #synchronize shared_model with local_model\n",
    "        sync_models(model, shared_model, i, print_every)\n",
    "\n",
    "        #Perform single forward step\n",
    "        optimizer.step()\n",
    "    \n",
    "    timer.finish()\n",
    "    \n",
    "    return overall_reward, overall_cost, loss_deque"
   ]
  },
  {
   "cell_type": "markdown",
   "metadata": {},
   "source": [
    "## Parallelization"
   ]
  },
  {
   "cell_type": "code",
   "execution_count": 40,
   "metadata": {},
   "outputs": [
    {
     "name": "stderr",
     "output_type": "stream",
     "text": [
      "Process Process-5:\n",
      "Traceback (most recent call last):\n",
      "  File \"/Users/qasimwani/opt/anaconda3/envs/drlnd/lib/python3.6/multiprocessing/process.py\", line 258, in _bootstrap\n",
      "    self.run()\n",
      "  File \"/Users/qasimwani/opt/anaconda3/envs/drlnd/lib/python3.6/multiprocessing/process.py\", line 93, in run\n",
      "    self._target(*self._args, **self._kwargs)\n",
      "  File \"/Users/qasimwani/Desktop/Nous/reinforcement_learning/personal_projects/policy-value-methods/Actor-Critic/parallelEnv.py\", line 101, in worker\n",
      "    cmd, data = remote.recv()\n",
      "  File \"/Users/qasimwani/opt/anaconda3/envs/drlnd/lib/python3.6/multiprocessing/connection.py\", line 250, in recv\n",
      "    buf = self._recv_bytes()\n",
      "  File \"/Users/qasimwani/opt/anaconda3/envs/drlnd/lib/python3.6/multiprocessing/connection.py\", line 407, in _recv_bytes\n",
      "    buf = self._recv(4)\n",
      "  File \"/Users/qasimwani/opt/anaconda3/envs/drlnd/lib/python3.6/multiprocessing/connection.py\", line 379, in _recv\n",
      "    chunk = read(handle, remaining)\n",
      "KeyboardInterrupt\n"
     ]
    }
   ],
   "source": [
    "# load mulitple parallel agents, in this case 16.\n",
    "envs = parallelEnv(env_id, n=1, seed=1)"
   ]
  },
  {
   "cell_type": "code",
   "execution_count": 41,
   "metadata": {
    "scrolled": false
   },
   "outputs": [
    {
     "name": "stderr",
     "output_type": "stream",
     "text": [
      "training loop:   4% |##                                         | ETA:  0:04:47\r"
     ]
    },
    {
     "name": "stdout",
     "output_type": "stream",
     "text": [
      "Episode: 50, cost: -1.187335, score: 0.140000\n",
      "[0.]\n"
     ]
    },
    {
     "name": "stderr",
     "output_type": "stream",
     "text": [
      "training loop:   9% |####                                       | ETA:  0:04:41\r"
     ]
    },
    {
     "name": "stdout",
     "output_type": "stream",
     "text": [
      "Episode: 100, cost: -1.567697, score: 0.240000\n",
      "[1.]\n"
     ]
    },
    {
     "name": "stderr",
     "output_type": "stream",
     "text": [
      "training loop:  14% |######                                     | ETA:  0:04:27\r"
     ]
    },
    {
     "name": "stdout",
     "output_type": "stream",
     "text": [
      "Episode: 150, cost: -1.755188, score: 0.240000\n",
      "[0.]\n"
     ]
    },
    {
     "name": "stderr",
     "output_type": "stream",
     "text": [
      "training loop:  19% |########                                   | ETA:  0:04:16\r"
     ]
    },
    {
     "name": "stdout",
     "output_type": "stream",
     "text": [
      "Episode: 200, cost: -1.583361, score: 0.235000\n",
      "[1.]\n"
     ]
    },
    {
     "name": "stderr",
     "output_type": "stream",
     "text": [
      "training loop:  24% |##########                                 | ETA:  0:04:01\r"
     ]
    },
    {
     "name": "stdout",
     "output_type": "stream",
     "text": [
      "Episode: 250, cost: -1.588733, score: 0.236000\n",
      "[0.]\n"
     ]
    },
    {
     "name": "stderr",
     "output_type": "stream",
     "text": [
      "training loop:  29% |############                               | ETA:  0:03:47\r"
     ]
    },
    {
     "name": "stdout",
     "output_type": "stream",
     "text": [
      "Episode: 300, cost: -1.359808, score: 0.233333\n",
      "[0.]\n"
     ]
    },
    {
     "name": "stderr",
     "output_type": "stream",
     "text": [
      "training loop:  34% |##############                             | ETA:  0:03:31\r"
     ]
    },
    {
     "name": "stdout",
     "output_type": "stream",
     "text": [
      "Episode: 350, cost: -1.100828, score: 0.228571\n",
      "[0.]\n"
     ]
    },
    {
     "name": "stderr",
     "output_type": "stream",
     "text": [
      "training loop:  39% |#################                          | ETA:  0:03:15\r"
     ]
    },
    {
     "name": "stdout",
     "output_type": "stream",
     "text": [
      "Episode: 400, cost: -1.368583, score: 0.240000\n",
      "[1.]\n"
     ]
    },
    {
     "name": "stderr",
     "output_type": "stream",
     "text": [
      "training loop:  45% |###################                        | ETA:  0:02:58\r"
     ]
    },
    {
     "name": "stdout",
     "output_type": "stream",
     "text": [
      "Episode: 450, cost: -1.692520, score: 0.248889\n",
      "[0.]\n"
     ]
    },
    {
     "name": "stderr",
     "output_type": "stream",
     "text": [
      "training loop:  49% |#####################                      | ETA:  0:02:43\r"
     ]
    },
    {
     "name": "stdout",
     "output_type": "stream",
     "text": [
      "Episode: 500, cost: -1.776769, score: 0.254000\n",
      "[1.]\n"
     ]
    },
    {
     "name": "stderr",
     "output_type": "stream",
     "text": [
      "training loop:  55% |#######################                    | ETA:  0:02:28\r"
     ]
    },
    {
     "name": "stdout",
     "output_type": "stream",
     "text": [
      "Episode: 550, cost: -1.799795, score: 0.258182\n",
      "[0.]\n"
     ]
    },
    {
     "name": "stderr",
     "output_type": "stream",
     "text": [
      "training loop:  59% |#########################                  | ETA:  0:02:14\r"
     ]
    },
    {
     "name": "stdout",
     "output_type": "stream",
     "text": [
      "Episode: 600, cost: -1.563676, score: 0.256667\n",
      "[0.]\n"
     ]
    },
    {
     "name": "stderr",
     "output_type": "stream",
     "text": [
      "training loop:  64% |###########################                | ETA:  0:01:58\r"
     ]
    },
    {
     "name": "stdout",
     "output_type": "stream",
     "text": [
      "Episode: 650, cost: -1.445733, score: 0.256923\n",
      "[0.]\n"
     ]
    },
    {
     "name": "stderr",
     "output_type": "stream",
     "text": [
      "training loop:  69% |##############################             | ETA:  0:01:42\r"
     ]
    },
    {
     "name": "stdout",
     "output_type": "stream",
     "text": [
      "Episode: 700, cost: -1.500919, score: 0.257143\n",
      "[0.]\n"
     ]
    },
    {
     "name": "stderr",
     "output_type": "stream",
     "text": [
      "training loop:  75% |################################           | ETA:  0:01:25\r"
     ]
    },
    {
     "name": "stdout",
     "output_type": "stream",
     "text": [
      "Episode: 750, cost: -1.719661, score: 0.261333\n",
      "[0.]\n"
     ]
    },
    {
     "name": "stderr",
     "output_type": "stream",
     "text": [
      "training loop:  79% |##################################         | ETA:  0:01:09\r"
     ]
    },
    {
     "name": "stdout",
     "output_type": "stream",
     "text": [
      "Episode: 800, cost: -1.594444, score: 0.255000\n",
      "[1.]\n"
     ]
    },
    {
     "name": "stderr",
     "output_type": "stream",
     "text": [
      "training loop:  84% |####################################       | ETA:  0:00:52\r"
     ]
    },
    {
     "name": "stdout",
     "output_type": "stream",
     "text": [
      "Episode: 850, cost: -1.385341, score: 0.254118\n",
      "[1.]\n"
     ]
    },
    {
     "name": "stderr",
     "output_type": "stream",
     "text": [
      "training loop:  90% |######################################     | ETA:  0:00:34\r"
     ]
    },
    {
     "name": "stdout",
     "output_type": "stream",
     "text": [
      "Episode: 900, cost: -1.266788, score: 0.247778\n",
      "[0.]\n"
     ]
    },
    {
     "name": "stderr",
     "output_type": "stream",
     "text": [
      "training loop:  94% |########################################   | ETA:  0:00:17\r"
     ]
    },
    {
     "name": "stdout",
     "output_type": "stream",
     "text": [
      "Episode: 950, cost: -1.070479, score: 0.242105\n",
      "[0.]\n"
     ]
    },
    {
     "name": "stderr",
     "output_type": "stream",
     "text": [
      "training loop: 100% |###########################################| ETA:  0:00:00\r"
     ]
    },
    {
     "name": "stdout",
     "output_type": "stream",
     "text": [
      "Episode: 1000, cost: -1.523067, score: 0.242000\n",
      "[1.]\n"
     ]
    },
    {
     "name": "stderr",
     "output_type": "stream",
     "text": [
      "training loop: 100% |###########################################| Time: 0:05:46\n"
     ]
    }
   ],
   "source": [
    "overall_reward, overall_cost, loss_deque = train(main_model, envs, num_episode=1000, print_every=50)"
   ]
  },
  {
   "cell_type": "code",
   "execution_count": 42,
   "metadata": {},
   "outputs": [
    {
     "data": {
      "image/png": "[encoded data removed]",
      "text/plain": [
       "<Figure size 432x288 with 1 Axes>"
      ]
     },
     "metadata": {
      "needs_background": "light"
     },
     "output_type": "display_data"
    }
   ],
   "source": [
    "plt.plot(overall_cost)\n",
    "plt.xlabel(\"Episode #\")\n",
    "plt.ylabel(\"Overall cost\")\n",
    "plt.show()"
   ]
  },
  {
   "cell_type": "code",
   "execution_count": 43,
   "metadata": {
    "scrolled": true
   },
   "outputs": [
    {
     "data": {
      "image/png": "[encoded data removed]",
      "text/plain": [
       "<Figure size 432x288 with 1 Axes>"
      ]
     },
     "metadata": {
      "needs_background": "light"
     },
     "output_type": "display_data"
    }
   ],
   "source": [
    "plt.plot(np.array(overall_reward).T[0])#reward for agent #1\n",
    "plt.xlabel(\"Episode #\")\n",
    "plt.ylabel(\"Overall score for agent #1\")\n",
    "plt.show()"
   ]
  },
  {
   "cell_type": "code",
   "execution_count": 47,
   "metadata": {},
   "outputs": [],
   "source": [
    "def test():\n",
    "    # state, frame0, frame1 = get_stacked_frame()\n",
    "    frame0 = env.reset()\n",
    "#     env.step(1) #fire\n",
    "#     frame1 = env.step(0)[0]\n",
    "    total_reward = 0 #reward per frame stacked\n",
    "\n",
    "    # # perform nrand random steps in the beginning\n",
    "    # for _ in range(5):\n",
    "    #     frame1, reward1, is_done, _ = env.step(np.random.choice([RIGHT,LEFT]))\n",
    "    #     frame2, reward2, is_done, _ = env.step(0)\n",
    "    done = True\n",
    "    actions = []\n",
    "    for _ in range(1000):\n",
    "\n",
    "        if done:\n",
    "            cx, hx = torch.zeros(1, 256), torch.zeros(1, 256)\n",
    "        else:\n",
    "            cx = cx.detach()\n",
    "            hx = hx.detach()\n",
    "\n",
    "        state = preprocess_batch([frame0])     \n",
    "\n",
    "        logits, value, hx, cx = main_model(state, hx, cx)\n",
    "\n",
    "        log_prob = F.softmax(logits, dim=-1)\n",
    "        action = torch.exp(log_prob).multinomial(num_samples=1).item()\n",
    "        frame0, r1, is_done, _ = env.step(action)\n",
    "\n",
    "\n",
    "        actions.append(action)\n",
    "        total_reward += r1\n",
    "        env.render()\n",
    "\n",
    "        if is_done:\n",
    "            break\n",
    "\n",
    "    return total_reward, actions"
   ]
  },
  {
   "cell_type": "code",
   "execution_count": null,
   "metadata": {},
   "outputs": [
    {
     "name": "stdout",
     "output_type": "stream",
     "text": [
      "Reward for test run #1: 1.0\n",
      "Reward for test run #2: 3.0\n",
      "Reward for test run #3: 1.0\n",
      "Reward for test run #4: 2.0\n",
      "Reward for test run #5: 1.0\n"
     ]
    }
   ],
   "source": [
    "time.sleep(1)\n",
    "for i in range(10):\n",
    "    tr, _ = test()\n",
    "    print(f\"Reward for test run #{i+1}: {tr}\")"
   ]
  },
  {
   "cell_type": "markdown",
   "metadata": {},
   "source": [
    "## Analysis"
   ]
  },
  {
   "cell_type": "code",
   "execution_count": 26,
   "metadata": {},
   "outputs": [],
   "source": [
    "#TODO"
   ]
  }
 ],
 "metadata": {
  "kernelspec": {
   "display_name": "Python 3",
   "language": "python",
   "name": "python3"
  },
  "language_info": {
   "codemirror_mode": {
    "name": "ipython",
    "version": 3
   },
   "file_extension": ".py",
   "mimetype": "text/x-python",
   "name": "python",
   "nbconvert_exporter": "python",
   "pygments_lexer": "ipython3",
   "version": "3.6.10"
  }
 },
 "nbformat": 4,
 "nbformat_minor": 4
}
