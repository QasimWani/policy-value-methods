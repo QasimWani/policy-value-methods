{
 "cells": [
  {
   "cell_type": "markdown",
   "metadata": {},
   "source": [
    "### Use the Asynchronous Advantage Actor Critic (A3C) Policy Gradient Method to solve Breakout"
   ]
  },
  {
   "cell_type": "code",
   "execution_count": 73,
   "metadata": {},
   "outputs": [],
   "source": [
    "import gym\n",
    "import numpy as np\n",
    "import matplotlib.pyplot as plt\n",
    "from collections import deque\n",
    "import progressbar as pb\n",
    "from scipy.signal import lfilter\n",
    "\n",
    "import torch\n",
    "import torch.nn as nn\n",
    "import torch.nn.functional as F\n",
    "import torch.optim as optim\n",
    "from parallelEnv import parallelEnv\n",
    "from PIL import Image"
   ]
  },
  {
   "cell_type": "code",
   "execution_count": 2,
   "metadata": {},
   "outputs": [],
   "source": [
    "env_id = 'Breakout-v4'\n",
    "env = gym.make(env_id)"
   ]
  },
  {
   "cell_type": "code",
   "execution_count": 3,
   "metadata": {},
   "outputs": [
    {
     "data": {
      "text/plain": [
       "Box(210, 160, 3)"
      ]
     },
     "execution_count": 3,
     "metadata": {},
     "output_type": "execute_result"
    }
   ],
   "source": [
    "env.observation_space"
   ]
  },
  {
   "cell_type": "code",
   "execution_count": 4,
   "metadata": {},
   "outputs": [
    {
     "name": "stdout",
     "output_type": "stream",
     "text": [
      "Actions:Discrete(4)\n",
      "Meanings:['NOOP', 'FIRE', 'RIGHT', 'LEFT']\n"
     ]
    }
   ],
   "source": [
    "print(f\"Actions:{env.action_space}\\nMeanings:{env.unwrapped.get_action_meanings()}\")"
   ]
  },
  {
   "cell_type": "code",
   "execution_count": 5,
   "metadata": {},
   "outputs": [],
   "source": [
    "device = torch.device(\"cuda:0\" if torch.cuda.is_available() else \"cpu\") #convert to GPU if available"
   ]
  },
  {
   "cell_type": "markdown",
   "metadata": {},
   "source": [
    "## Preprocess Image"
   ]
  },
  {
   "cell_type": "code",
   "execution_count": 148,
   "metadata": {},
   "outputs": [],
   "source": [
    "## Utils\n",
    "def preprocess_single_frame(image, bkg_color = np.array([144, 72, 17]), n=16):\n",
    "    \"\"\"\n",
    "    Converts an image from RGB channel to B&W channels.\n",
    "    Also performs downscale to 80x80. Performs normalization.\n",
    "    @Param:\n",
    "    1. image: (array_like) input image. shape = (210, 160, 3)\n",
    "    2. bkg_color: (np.array) standard encoding for brown in RGB with alpha = 0.0\n",
    "    @Return:\n",
    "    - img: (array_like) B&W, downscaled, normalized image of shape (80x80)\n",
    "    \"\"\"\n",
    "    img = np.mean(image[35:195:2,::2]-bkg_color, axis=-1)/255.\n",
    "    return img\n",
    "\n",
    "#Utils\n",
    "def preprocess_batch(images, bkg_color = np.array([144, 72, 17])):\n",
    "    \"\"\"\n",
    "    convert outputs of parallelEnv to inputs to pytorch neural net\"\"\"\n",
    "    list_of_images = np.asarray(images)\n",
    "    if len(list_of_images.shape) < 5:\n",
    "        list_of_images = np.expand_dims(list_of_images, 1)\n",
    "    # subtract bkg and crop\n",
    "    list_of_images_prepro = np.mean(list_of_images[:,:,34:-16:2,::2]-bkg_color,\n",
    "                                    axis=-1)/255.\n",
    "    batch_input = np.swapaxes(list_of_images_prepro,0,1)\n",
    "    return torch.from_numpy(batch_input).float().to(device)"
   ]
  },
  {
   "cell_type": "code",
   "execution_count": 119,
   "metadata": {},
   "outputs": [],
   "source": [
    "state = env.reset()\n",
    "for _ in range(20):#skip 20 frames\n",
    "    frame, _, _, _ = env.step(np.random.randint(0, env.action_space.n))"
   ]
  },
  {
   "cell_type": "code",
   "execution_count": 121,
   "metadata": {},
   "outputs": [
    {
     "data": {
      "image/png": "[encoded data removed]",
      "text/plain": [
       "<Figure size 432x288 with 2 Axes>"
      ]
     },
     "metadata": {
      "needs_background": "light"
     },
     "output_type": "display_data"
    }
   ],
   "source": [
    "#Plot processed and raw image\n",
    "plt.subplot(1,2,1)\n",
    "plt.imshow(frame)\n",
    "plt.title('original image')\n",
    "\n",
    "plt.subplot(1,2,2)\n",
    "plt.title('preprocessed image')\n",
    "# 80 x 80 black and white image\n",
    "plt.imshow(preprocess_single_frame(frame)[0], cmap='Greys')\n",
    "plt.show()"
   ]
  },
  {
   "cell_type": "markdown",
   "metadata": {},
   "source": [
    "# Actor-Critic"
   ]
  },
  {
   "cell_type": "markdown",
   "metadata": {},
   "source": [
    "![actor critic achitecture](https://www.mdpi.com/energies/energies-09-00725/article_deploy/html/images/energies-09-00725-g001-1024.png)"
   ]
  },
  {
   "cell_type": "code",
   "execution_count": 122,
   "metadata": {},
   "outputs": [],
   "source": [
    "#DEFINE Constants\n",
    "GAMMA = 0.99\n",
    "TAU = 1.0\n",
    "LR = 0.5*1e-4\n",
    "MAX_EPISODE_LENGTH = 1e8\n",
    "BETA = 0.01 #entropy coefficient"
   ]
  },
  {
   "cell_type": "code",
   "execution_count": 123,
   "metadata": {},
   "outputs": [],
   "source": [
    "class ActorCritic(nn.Module):\n",
    "    def __init__(self, action_size=4, num_frames=2):\n",
    "        super(ActorCritic, self).__init__()\n",
    "        self.action_size = action_size\n",
    "        \n",
    "        #Define the CNN for Actor & Critic\n",
    "        self.conv1 = nn.Conv2d(num_frames, 32, 3, stride=2, padding=1) #output = 40x40x32\n",
    "        self.conv2 = nn.Conv2d(32, 32, 3, stride=2, padding=1) #output = 20x20x32\n",
    "        self.conv3 = nn.Conv2d(32, 32, 3, stride=2, padding=1) #output = 10x10x32\n",
    "        self.conv4 = nn.Conv2d(32, 32, 3, stride=2, padding=1) #output = 5x5x32\n",
    "        \n",
    "        self.size = 5*5*32 #800\n",
    "\n",
    "        #FC layer\n",
    "        self.lstm = nn.LSTMCell(input_size=self.size, hidden_size=256)#lstm cell to prevent vanishing gradients\n",
    "        \n",
    "        # Define Actor and Critic network\n",
    "        # Critic evaluates the state value function, V(π) using TD estimate.\n",
    "        # Actor evaluates the policy π(a|s) distribution\n",
    "        \n",
    "        self.critic_linear, self.actor_linear = nn.Linear(256, 1), nn.Linear(256, self.action_size)\n",
    "        \n",
    "    def forward(self, x, hx, cx):\n",
    "        \"\"\"\n",
    "        Peforms one-pass for the Conv layers.\n",
    "        @Param:\n",
    "        1. x - shape: (2, 80, 80); 2 stacked frames of 80x80 images\n",
    "        2. hx - hidden state of the RNN. shape: (1x256)\n",
    "        3. cx - confidence state of the RNN. shape: (1x256)\n",
    "        @Return:\n",
    "        1. critic estimated value, V(π)\n",
    "        2. actor policy distribution, π(a|s) as logits\n",
    "        \"\"\"\n",
    "        #4 conv nets without max pool layers, simple Relu activation f(x)\n",
    "        x = F.relu(self.conv1(x))\n",
    "        x = F.relu(self.conv2(x))\n",
    "        x = F.relu(self.conv3(x))\n",
    "        x = F.relu(self.conv4(x))\n",
    "        x = x.view(-1,self.size) #flatten\n",
    "        hx, cx = self.lstm(x, (hx, cx)) #dynamic calculation for final confidence & hidden state\n",
    "        value = self.critic_linear(hx) #CRITIC: calculates estimated state value function, V(π)\n",
    "        logits = self.actor_linear(hx) #ACTOR:  calculates policy distribution π(a|s)\n",
    "        \n",
    "        return logits, value, hx, cx"
   ]
  },
  {
   "cell_type": "code",
   "execution_count": 124,
   "metadata": {},
   "outputs": [],
   "source": [
    "main_model = ActorCritic(num_frames=1)"
   ]
  },
  {
   "cell_type": "code",
   "execution_count": 125,
   "metadata": {},
   "outputs": [
    {
     "data": {
      "text/plain": [
       "ActorCritic(\n",
       "  (conv1): Conv2d(1, 32, kernel_size=(3, 3), stride=(2, 2), padding=(1, 1))\n",
       "  (conv2): Conv2d(32, 32, kernel_size=(3, 3), stride=(2, 2), padding=(1, 1))\n",
       "  (conv3): Conv2d(32, 32, kernel_size=(3, 3), stride=(2, 2), padding=(1, 1))\n",
       "  (conv4): Conv2d(32, 32, kernel_size=(3, 3), stride=(2, 2), padding=(1, 1))\n",
       "  (lstm): LSTMCell(800, 256)\n",
       "  (critic_linear): Linear(in_features=256, out_features=1, bias=True)\n",
       "  (actor_linear): Linear(in_features=256, out_features=4, bias=True)\n",
       ")"
      ]
     },
     "execution_count": 125,
     "metadata": {},
     "output_type": "execute_result"
    }
   ],
   "source": [
    "main_model"
   ]
  },
  {
   "cell_type": "markdown",
   "metadata": {},
   "source": [
    "# Optimizer\n",
    "<p> A critical component to an A3C model is the ability to share parameters across\n",
    "    multiple agents running asynchronously such that they can collectively learn from\n",
    "    each other. This is done by the cross-integration (sharing) of gradients across all processes.\n",
    "</p>"
   ]
  },
  {
   "cell_type": "code",
   "execution_count": 126,
   "metadata": {},
   "outputs": [],
   "source": [
    "class SharedOptimizer(optim.Adam):\n",
    "    \"\"\"Implementation of shared parameter model using Adam optimizer\"\"\"\n",
    "    def __init__(self, params, lr=1e-3, betas=(0.9, 0.999), eps=1e-8, weight_decay=0):\n",
    "        super(SharedOptimizer, self).__init__(params, lr, betas, eps, weight_decay)\n",
    "        for group in self.param_groups:\n",
    "            for p in group['params']:\n",
    "                state = self.state[p]\n",
    "                state['shared_steps'], state['step'] = torch.zeros(1).share_memory_(), 0\n",
    "                state['exp_avg'] = p.data.new().resize_as_(p.data).zero_().share_memory_()\n",
    "                state['exp_avg_sq'] = p.data.new().resize_as_(p.data).zero_().share_memory_()\n",
    "                \n",
    "        def step(self, closure=None):\n",
    "            for group in self.param_groups:\n",
    "                for p in group['params']:\n",
    "                    if p.grad is None: continue\n",
    "                    self.state[p]['shared_steps'] += 1\n",
    "                    self.state[p]['step'] = self.state[p]['shared_steps'][0] - 1 # a \"step += 1\"  comes later\n",
    "            super.step(closure)"
   ]
  },
  {
   "cell_type": "code",
   "execution_count": 127,
   "metadata": {},
   "outputs": [],
   "source": [
    "optimizer = SharedOptimizer(main_model.parameters()) #define optimizer (uses Adam, instead of SGD)"
   ]
  },
  {
   "cell_type": "markdown",
   "metadata": {},
   "source": [
    "## Generalized Advantage Estimator \n",
    "<br>\n",
    "<p>\n",
    "    Generalized Advantage Estimator (GAE) helps us pick the best value for N-step boostrapping\n",
    "    by incorporating λ as an added hyper-parameter to tune accordingly that will minimize the\n",
    "    bias-variance tradeoff.\n",
    "    <br>\n",
    "    The derivation can be thought of as <a href=\"https://danieltakeshi.github.io/2017/04/02/notes-on-the-generalized-advantage-estimation-paper/#the-generalized-advantage-estimator\">the exponentially-decayed sum of residual terms.</a>\n",
    "</p>\n",
    "<p><strong>See the following <a href=\"https://arxiv.org/pdf/1506.02438.pdf\">derivation</a> for GAE estimator:</strong></p>"
   ]
  },
  {
   "cell_type": "markdown",
   "metadata": {},
   "source": [
    "![GAE Derivation](https://res.cloudinary.com/crammer/image/upload/v1596251771/Screen_Shot_2020-07-31_at_11.15.47_PM_feuhld.png)"
   ]
  },
  {
   "cell_type": "code",
   "execution_count": 128,
   "metadata": {},
   "outputs": [],
   "source": [
    "discount = lambda x, gamma: lfilter([1],[1,-gamma],x[::-1])[::-1] # computes discounted reward"
   ]
  },
  {
   "cell_type": "code",
   "execution_count": 129,
   "metadata": {},
   "outputs": [],
   "source": [
    "def compute_cost(values, log_probs, actions, rewards, n=8):\n",
    "    \"\"\"\n",
    "    Calculates the policy (actor) and value (critic) loss\n",
    "    @Param:\n",
    "    1. values: (tensor) list of V(s) estimator, critic.\n",
    "    2. log_probs: (tensor) list of π(a|s) softmax output, actor.\n",
    "    3. actions: (tensor) actions taken from rollout of trajectory.\n",
    "    4. rewards: (tensor) rewards based on S,A pairs. true values, used to minimize loss.\n",
    "    5. gae_lambda: (float) [0-1] value of lambda for residual calculation. used in N-step bootstrap.\n",
    "    6. n: (int) number of parallel agents.\n",
    "    @Return:\n",
    "    - value_loss: (tensor) critic loss.\n",
    "    - policy_loss: (tensor) actor loss.\n",
    "    \"\"\"\n",
    "    np_values = values.view(-1).data.numpy() #convert torch.tensor to numpy array & flatten/reshape it\n",
    "    #implement GAE\n",
    "    rewards = torch.tensor(rewards).view(-1,1).squeeze(-1) # (20x8) --> (160)\n",
    "    delta_t =  + GAMMA * (np_values[n:] - np_values[:-n])\n",
    "    \n",
    "    log_probs = log_probs.gather(1, torch.tensor(actions).view(-1,1))\n",
    "    gae = discount(delta_t, GAMMA * TAU)#calculate Generative Advantage Estimate\n",
    "\n",
    "    #calculate policy_loss = -log( π(a|s) ) * ( R - V(s) )\n",
    "    policy_loss = -(log_probs.view(-1) * torch.FloatTensor(gae.copy())).sum()\n",
    "    \n",
    "    # l2 loss over value estimator\n",
    "    rewards[-1] += GAMMA * np_values[-n]\n",
    "    discounted_r = discount(np.asarray(rewards), GAMMA)\n",
    "    discounted_r = torch.tensor(discounted_r.copy(), dtype=torch.float32)\n",
    "    \n",
    "    value_loss = 0.5*(discounted_r - values[:-n,0]).pow(2).sum()\n",
    "\n",
    "    entropy_loss = (-log_probs * torch.exp(log_probs)).sum() # entropy = ∑ -log(π(a|s))*e^(log(π(a|s)))\n",
    "    return policy_loss + 0.5 * value_loss - BETA * entropy_loss\n",
    "#     return policy_loss - value_loss -  BETA * entropy_loss #total loss"
   ]
  },
  {
   "cell_type": "markdown",
   "metadata": {},
   "source": [
    "## Train"
   ]
  },
  {
   "cell_type": "code",
   "execution_count": 130,
   "metadata": {},
   "outputs": [],
   "source": [
    "# Utils\n",
    "def sync_models(model, shared_model, i, pprint):\n",
    "    \"\"\"\n",
    "    Syncs the gradients from local model to shared model as a critical part of the A3C algorithm.\n",
    "    Updates the pointer based reference.\n",
    "    @param:\n",
    "    1. model: local model to sync from.\n",
    "    2. shared_model: global model to sync into.\n",
    "    3. i: episode number. Used in calculation of when to save the local model.\n",
    "    4. pprint: model iteration to save, i.e. saves model when i%pprint = 0.\n",
    "    \"\"\"\n",
    "    if(i%pprint == 0): #Save weights\n",
    "        model_path = \"models/model_\" + str(i//pprint) + \"_.pth\"\n",
    "        torch.save(model.state_dict(), model_path)\n",
    "        \n",
    "    for local_param, shared_param in zip(model.parameters(), shared_model.parameters()):\n",
    "        if(shared_param.grad is not None):\n",
    "            return model, shared_model\n",
    "        shared_param.grad = local_param.grad #sync\n",
    "    return model, shared_model"
   ]
  },
  {
   "cell_type": "code",
   "execution_count": 131,
   "metadata": {},
   "outputs": [],
   "source": [
    "def get_stacked_frame(envs, n, reset=True):\n",
    "    \"\"\"\n",
    "    Returns a 1x2x80x80 tensor by concatenating 2 processed frames.\n",
    "    @Param:\n",
    "    - reset: (boolean, optional) if True, gets the first 2 frames of the env.\n",
    "    @return:\n",
    "    - state: a 1x2x80x80 torch.Tensor\n",
    "    - frame0: first frame of size 80x80 \n",
    "    - frame1: second frame of size 80x80 \n",
    "    \"\"\"\n",
    "    frame0 = envs.reset()\n",
    "#     frame1,_,_,_ = envs.step([1]*n) #fire\n",
    "    state = preprocess_batch([frame0]) #nx1x80x80 tensor\n",
    "    return state, frame0"
   ]
  },
  {
   "cell_type": "code",
   "execution_count": 41,
   "metadata": {},
   "outputs": [],
   "source": [
    "def train(shared_model, envs, optimizer=None, num_episode=1000, num_steps=20, print_every=100):\n",
    "    \"\"\"\n",
    "    Train A3C agent.\n",
    "    @Param:\n",
    "    1. shared_model: instance of ActorCritic class, globally shared model across all parallel agents.\n",
    "    2. envs: parallel agents.\n",
    "    3. optimizer: instance of SharedOptimizer class, default = None (created as local object).\n",
    "    4. num_episode: (int) number of episodes to train for.\n",
    "    5. num_steps: (int) number of forward pass to pass through. default = 20.\n",
    "    6. print_every: (int) display statistics & save weights every n episodes. default = 100.\n",
    "    @Return:\n",
    "    - overall_reward: total reward per episode.\n",
    "    - overall_cost: total cost based on the custom loss function over num_episode.\n",
    "    - loss_deque: the N most recent loss values. default = 100.\n",
    "    \"\"\"\n",
    "    # widget bar to display progress\n",
    "    widget = ['training loop: ', pb.Percentage(), ' ', \n",
    "              pb.Bar(), ' ', pb.ETA() ]\n",
    "    timer = pb.ProgressBar(widgets=widget, maxval=num_episode).start()\n",
    "    \n",
    "    # number of parallel instances\n",
    "    n = len(envs.ps)\n",
    "    \n",
    "    model = ActorCritic(num_frames=1) #local model\n",
    "    \n",
    "    if(optimizer is None):#create optimizer\n",
    "        optimizer = SharedOptimizer(shared_model.parameters(), lr=LR)\n",
    "    \n",
    "    model.train()#Set the local model in training mode\n",
    "    \n",
    "    #Extract stacked frames\n",
    "    \n",
    "    state, frame0 = get_stacked_frame(envs, n)# (nx2x80x80) Tensor\n",
    "    episode_length = 0\n",
    "    done = np.full(8, True)\n",
    "    \n",
    "    #return metrics\n",
    "    overall_reward = []\n",
    "    overall_cost = []\n",
    "    loss_deque = deque(maxlen=100)\n",
    "    score_deque = deque(maxlen=100)\n",
    "    \n",
    "    for i in range(1, num_episode+1):\n",
    "        model.load_state_dict(shared_model.state_dict()) #syncs the shared model with the local model\n",
    "            \n",
    "        if done.any():\n",
    "            cx, hx = torch.zeros(n, 256), torch.zeros(n, 256)\n",
    "        else:\n",
    "            cx = cx.detach()\n",
    "            hx = hx.detach()\n",
    "        \n",
    "        values = []; log_probs = []; rewards = []; actions = []\n",
    "        for step in range(num_steps):\n",
    "            episode_length += 1\n",
    "            logits, value, hx, cx = model(state, hx, cx)\n",
    "            prob = F.softmax(logits, dim=-1)\n",
    "            log_prob = F.log_softmax(logits, dim=-1)\n",
    "            \n",
    "            action = [torch.exp(log_prob[i]).multinomial(num_samples=1).item() for i in range(n)]\n",
    "            frame0, reward, done, _ = envs.step(action)\n",
    "            \n",
    "            #----- Clip reward -------\n",
    "            reward = np.clip(reward, -1, 1) # reward\n",
    "            #-------------------------\n",
    "            \n",
    "#             frame1, r, done, _ = envs.step([0]*n)\n",
    "\n",
    "            #stack frames to an nx2x80x80 Tensor\n",
    "            state = preprocess_batch([frame0])\n",
    "            \n",
    "            #update data\n",
    "            values.append(value.detach())\n",
    "            log_probs.append(log_prob)\n",
    "            rewards.append(reward)\n",
    "            actions.append(action)\n",
    "                        \n",
    "            if done.any() or episode_length > MAX_EPISODE_LENGTH:\n",
    "                episode_length = 0\n",
    "                state, frame0 = get_stacked_frame(envs, n)#nx2x80x80 Tensor\n",
    "                break\n",
    "        overall_reward.append(sum(rewards)) #cumulitive reward per episode\n",
    "        score_deque.append(overall_reward) #last 100 score\n",
    "    \n",
    "        #Solves broadcasting error\n",
    "        next_value = torch.zeros(n,1) if done.any() else model(state, hx, cx)[1] #return value\n",
    "        values.append(next_value.detach())\n",
    "\n",
    "        #compute loss\n",
    "        loss = compute_cost(torch.cat(values), torch.cat(log_probs), actions, rewards, n=n)\n",
    "        overall_cost.append(loss.item())\n",
    "        loss_deque.append(loss.item()) #last 100 losses\n",
    "        if(i%print_every == 0):\n",
    "            print(\"Episode: {0:d}, cost: {1:f}, score: {2:f}\".format(i,np.mean(loss_deque), np.mean(score_deque)))\n",
    "            print(overall_reward[-1])\n",
    "        # update progress widget bar\n",
    "        timer.update(i)\n",
    "        \n",
    "        optimizer.zero_grad()#reset gradient\n",
    "        loss.backward() #perform backprop\n",
    "        torch.nn.utils.clip_grad_norm_(model.parameters(), 1) #clip gradients\n",
    "        #synchronize shared_model with local_model\n",
    "        for param, shared_param in zip(model.parameters(), shared_model.parameters()):\n",
    "            if shared_param.grad is None: shared_param._grad = param.grad # sync gradients with shared model\n",
    "\n",
    "        #Perform single forward step\n",
    "        optimizer.step()\n",
    "    \n",
    "    timer.finish()\n",
    "    \n",
    "    return overall_reward, overall_cost, loss_deque"
   ]
  },
  {
   "cell_type": "code",
   "execution_count": 142,
   "metadata": {},
   "outputs": [],
   "source": [
    "def train(envs, shared_model, shared_optimizer, num_episodes=1000, rnn_steps=20, print_every=10):\n",
    "    # number of parallel instances\n",
    "    n = len(envs.ps)\n",
    "    \n",
    "    model = ActorCritic(num_frames=1) # a local/unshared model\n",
    "    state = torch.tensor(preprocess_single_frame(envs.reset(), n=n)) # get first state\n",
    "\n",
    "    episode_length, epr, eploss, done  = 0, 0, 0, True # bookkeeping\n",
    "\n",
    "    for i in range(1, num_episodes + 1): # openai baselines uses 40M frames...we'll use 80M\n",
    "        model.load_state_dict(shared_model.state_dict()) # sync with shared model\n",
    "\n",
    "        hx = torch.zeros(n, 256) if done.any() else hx.detach()  # rnn activation vector\n",
    "        cx = torch.zeros(n, 256) if done.any() else cx.detach()  # rnn activation vector\n",
    "        values, logps, actions, rewards = [], [], [], [] # save values for computing gradientss\n",
    "\n",
    "        for step in range(rnn_steps):\n",
    "            episode_length += 1\n",
    "            value, logit, hx = model((state.view(n,1,80,80), hx, cx))\n",
    "            logp = F.log_softmax(logit, dim=-1)\n",
    "\n",
    "            action = torch.exp(logp).multinomial(num_samples=1).data[0]#logp.max(1)[1].data if args.test else\n",
    "            state, reward, done, _ = envs.step(action.numpy()[0])\n",
    "\n",
    "            state = torch.tensor(preprocess_single_frame(state,n=n)) ; epr += reward\n",
    "            reward = np.clip(reward, -1, 1) # reward\n",
    "            done = done or episode_length >= 1e4 # don't playing one ep for too long\n",
    "            \n",
    "#             info['frames'].add_(1) ; num_frames = int(info['frames'].item())\n",
    "#             if num_frames % 2e6 == 0: # save every 2M frames\n",
    "#                 printlog(args, '\\n\\t{:.0f}M frames: saved model\\n'.format(num_frames/1e6))\n",
    "#                 torch.save(shared_model.state_dict(), args.save_dir+'model.{:.0f}.tar'.format(num_frames/1e6))\n",
    "\n",
    "#             if done: # update shared data\n",
    "#                 info['episodes'] += 1\n",
    "#                 interp = 1 if info['episodes'][0] == 1 else 1 - args.horizon\n",
    "#                 info['run_epr'].mul_(1-interp).add_(interp * epr)\n",
    "#                 info['run_loss'].mul_(1-interp).add_(interp * eploss)\n",
    "\n",
    "#             if rank == 0 and time.time() - last_disp_time > 60: # print info ~ every minute\n",
    "#                 elapsed = time.strftime(\"%Hh %Mm %Ss\", time.gmtime(time.time() - start_time))\n",
    "#                 printlog(args, 'time {}, episodes {:.0f}, frames {:.1f}M, mean epr {:.2f}, run loss {:.2f}'\n",
    "#                     .format(elapsed, info['episodes'].item(), num_frames/1e6,\n",
    "#                     info['run_epr'].item(), info['run_loss'].item()))\n",
    "#                 last_disp_time = time.time()\n",
    "\n",
    "            if done.any(): # maybe print info.\n",
    "                episode_length, epr, eploss = 0, 0, 0\n",
    "                state = torch.tensor(preprocess_single_frame(env.reset(),n=n))\n",
    "\n",
    "            values.append(value) ; logps.append(logp) ; actions.append(action) ; rewards.append(reward)\n",
    "            if(i%print_every == 0):\n",
    "                print(np.mean(logp))\n",
    "                print(np.mean(reward))\n",
    "                \n",
    "        next_value = torch.zeros(n,1) if done else model((state.unsqueeze(0), hx, cx))[0]\n",
    "        values.append(next_value.detach())\n",
    "\n",
    "        loss = cost_func(args, torch.cat(values), torch.cat(logps), torch.cat(actions), np.asarray(rewards))\n",
    "        eploss += loss.item()\n",
    "        shared_optimizer.zero_grad() ; loss.backward()\n",
    "        torch.nn.utils.clip_grad_norm_(model.parameters(), 40)\n",
    "\n",
    "        for param, shared_param in zip(model.parameters(), shared_model.parameters()):\n",
    "            if shared_param.grad is None: shared_param._grad = param.grad # sync gradients with shared model\n",
    "        shared_optimizer.step()\n"
   ]
  },
  {
   "cell_type": "code",
   "execution_count": 149,
   "metadata": {},
   "outputs": [],
   "source": [
    "state = torch.tensor(preprocess_single_frame(envs.reset(), n=16)) # get first state"
   ]
  },
  {
   "cell_type": "code",
   "execution_count": 150,
   "metadata": {},
   "outputs": [
    {
     "data": {
      "text/plain": [
       "torch.Size([0, 105, 160])"
      ]
     },
     "execution_count": 150,
     "metadata": {},
     "output_type": "execute_result"
    }
   ],
   "source": [
    "state.shape"
   ]
  },
  {
   "cell_type": "code",
   "execution_count": null,
   "metadata": {},
   "outputs": [],
   "source": [
    "#FUCK ME MAN!!!"
   ]
  },
  {
   "cell_type": "markdown",
   "metadata": {},
   "source": [
    "## Parallelization"
   ]
  },
  {
   "cell_type": "code",
   "execution_count": 140,
   "metadata": {},
   "outputs": [],
   "source": [
    "# load mulitple parallel agents, in this case 16.\n",
    "envs = parallelEnv(env_id, n=16, seed=1234)"
   ]
  },
  {
   "cell_type": "code",
   "execution_count": 141,
   "metadata": {
    "scrolled": false
   },
   "outputs": [
    {
     "ename": "ValueError",
     "evalue": "cannot reshape array of size 0 into shape (16,80,80)",
     "output_type": "error",
     "traceback": [
      "\u001b[0;31m---------------------------------------------------------------------------\u001b[0m",
      "\u001b[0;31mValueError\u001b[0m                                Traceback (most recent call last)",
      "\u001b[0;32m<ipython-input-141-4a054b424f38>\u001b[0m in \u001b[0;36m<module>\u001b[0;34m\u001b[0m\n\u001b[0;32m----> 1\u001b[0;31m \u001b[0mtrain\u001b[0m\u001b[0;34m(\u001b[0m\u001b[0menvs\u001b[0m\u001b[0;34m,\u001b[0m \u001b[0mmain_model\u001b[0m\u001b[0;34m,\u001b[0m \u001b[0moptimizer\u001b[0m\u001b[0;34m,\u001b[0m \u001b[0mnum_episodes\u001b[0m\u001b[0;34m=\u001b[0m\u001b[0;36m100\u001b[0m\u001b[0;34m,\u001b[0m \u001b[0mprint_every\u001b[0m\u001b[0;34m=\u001b[0m\u001b[0;36m5\u001b[0m\u001b[0;34m)\u001b[0m\u001b[0;34m\u001b[0m\u001b[0;34m\u001b[0m\u001b[0m\n\u001b[0m",
      "\u001b[0;32m<ipython-input-139-d5c726de84a5>\u001b[0m in \u001b[0;36mtrain\u001b[0;34m(envs, shared_model, shared_optimizer, num_episodes, rnn_steps, print_every)\u001b[0m\n\u001b[1;32m      4\u001b[0m \u001b[0;34m\u001b[0m\u001b[0m\n\u001b[1;32m      5\u001b[0m     \u001b[0mmodel\u001b[0m \u001b[0;34m=\u001b[0m \u001b[0mActorCritic\u001b[0m\u001b[0;34m(\u001b[0m\u001b[0mnum_frames\u001b[0m\u001b[0;34m=\u001b[0m\u001b[0;36m1\u001b[0m\u001b[0;34m)\u001b[0m \u001b[0;31m# a local/unshared model\u001b[0m\u001b[0;34m\u001b[0m\u001b[0;34m\u001b[0m\u001b[0m\n\u001b[0;32m----> 6\u001b[0;31m     \u001b[0mstate\u001b[0m \u001b[0;34m=\u001b[0m \u001b[0mtorch\u001b[0m\u001b[0;34m.\u001b[0m\u001b[0mtensor\u001b[0m\u001b[0;34m(\u001b[0m\u001b[0mpreprocess_single_frame\u001b[0m\u001b[0;34m(\u001b[0m\u001b[0menvs\u001b[0m\u001b[0;34m.\u001b[0m\u001b[0mreset\u001b[0m\u001b[0;34m(\u001b[0m\u001b[0;34m)\u001b[0m\u001b[0;34m,\u001b[0m \u001b[0mn\u001b[0m\u001b[0;34m=\u001b[0m\u001b[0mn\u001b[0m\u001b[0;34m)\u001b[0m\u001b[0;34m)\u001b[0m \u001b[0;31m# get first state\u001b[0m\u001b[0;34m\u001b[0m\u001b[0;34m\u001b[0m\u001b[0m\n\u001b[0m\u001b[1;32m      7\u001b[0m \u001b[0;34m\u001b[0m\u001b[0m\n\u001b[1;32m      8\u001b[0m     \u001b[0mepisode_length\u001b[0m\u001b[0;34m,\u001b[0m \u001b[0mepr\u001b[0m\u001b[0;34m,\u001b[0m \u001b[0meploss\u001b[0m\u001b[0;34m,\u001b[0m \u001b[0mdone\u001b[0m  \u001b[0;34m=\u001b[0m \u001b[0;36m0\u001b[0m\u001b[0;34m,\u001b[0m \u001b[0;36m0\u001b[0m\u001b[0;34m,\u001b[0m \u001b[0;36m0\u001b[0m\u001b[0;34m,\u001b[0m \u001b[0;32mTrue\u001b[0m \u001b[0;31m# bookkeeping\u001b[0m\u001b[0;34m\u001b[0m\u001b[0;34m\u001b[0m\u001b[0m\n",
      "\u001b[0;32m<ipython-input-138-e6fc3d0f9475>\u001b[0m in \u001b[0;36mpreprocess_single_frame\u001b[0;34m(image, bkg_color, n)\u001b[0m\n\u001b[1;32m     11\u001b[0m     \"\"\"\n\u001b[1;32m     12\u001b[0m     \u001b[0mimg\u001b[0m \u001b[0;34m=\u001b[0m \u001b[0mnp\u001b[0m\u001b[0;34m.\u001b[0m\u001b[0mmean\u001b[0m\u001b[0;34m(\u001b[0m\u001b[0mimage\u001b[0m\u001b[0;34m[\u001b[0m\u001b[0;36m35\u001b[0m\u001b[0;34m:\u001b[0m\u001b[0;36m195\u001b[0m\u001b[0;34m:\u001b[0m\u001b[0;36m2\u001b[0m\u001b[0;34m,\u001b[0m\u001b[0;34m:\u001b[0m\u001b[0;34m:\u001b[0m\u001b[0;36m2\u001b[0m\u001b[0;34m]\u001b[0m\u001b[0;34m-\u001b[0m\u001b[0mbkg_color\u001b[0m\u001b[0;34m,\u001b[0m \u001b[0maxis\u001b[0m\u001b[0;34m=\u001b[0m\u001b[0;34m-\u001b[0m\u001b[0;36m1\u001b[0m\u001b[0;34m)\u001b[0m\u001b[0;34m/\u001b[0m\u001b[0;36m255.\u001b[0m\u001b[0;34m\u001b[0m\u001b[0;34m\u001b[0m\u001b[0m\n\u001b[0;32m---> 13\u001b[0;31m     \u001b[0;32mreturn\u001b[0m \u001b[0mimg\u001b[0m\u001b[0;34m.\u001b[0m\u001b[0mreshape\u001b[0m\u001b[0;34m(\u001b[0m\u001b[0mn\u001b[0m\u001b[0;34m,\u001b[0m \u001b[0;36m80\u001b[0m\u001b[0;34m,\u001b[0m \u001b[0;36m80\u001b[0m\u001b[0;34m)\u001b[0m\u001b[0;34m\u001b[0m\u001b[0;34m\u001b[0m\u001b[0m\n\u001b[0m\u001b[1;32m     14\u001b[0m \u001b[0;34m\u001b[0m\u001b[0m\n\u001b[1;32m     15\u001b[0m \u001b[0;31m#Utils\u001b[0m\u001b[0;34m\u001b[0m\u001b[0;34m\u001b[0m\u001b[0;34m\u001b[0m\u001b[0m\n",
      "\u001b[0;31mValueError\u001b[0m: cannot reshape array of size 0 into shape (16,80,80)"
     ]
    }
   ],
   "source": [
    "train(envs, main_model, optimizer, num_episodes=100, print_every=5)"
   ]
  },
  {
   "cell_type": "code",
   "execution_count": 22,
   "metadata": {},
   "outputs": [
    {
     "data": {
      "image/png": "[encoded data removed]",
      "text/plain": [
       "<Figure size 432x288 with 1 Axes>"
      ]
     },
     "metadata": {
      "needs_background": "light"
     },
     "output_type": "display_data"
    }
   ],
   "source": [
    "plt.plot(overall_cost)\n",
    "plt.xlabel(\"Episode #\")\n",
    "plt.ylabel(\"Overall cost\")\n",
    "plt.show()"
   ]
  },
  {
   "cell_type": "code",
   "execution_count": 23,
   "metadata": {
    "scrolled": true
   },
   "outputs": [
    {
     "data": {
      "image/png": "[encoded data removed]",
      "text/plain": [
       "<Figure size 432x288 with 1 Axes>"
      ]
     },
     "metadata": {
      "needs_background": "light"
     },
     "output_type": "display_data"
    }
   ],
   "source": [
    "plt.plot(np.array(overall_reward).T[0])#reward for agent #1\n",
    "plt.xlabel(\"Episode #\")\n",
    "plt.ylabel(\"Overall score for agent #1\")\n",
    "plt.show()"
   ]
  },
  {
   "cell_type": "code",
   "execution_count": 24,
   "metadata": {},
   "outputs": [],
   "source": [
    "def test():\n",
    "    # state, frame0, frame1 = get_stacked_frame()\n",
    "    frame0 = env.reset()\n",
    "#     env.step(1) #fire\n",
    "#     frame1 = env.step(0)[0]\n",
    "    total_reward = 0 #reward per frame stacked\n",
    "\n",
    "    # # perform nrand random steps in the beginning\n",
    "    # for _ in range(5):\n",
    "    #     frame1, reward1, is_done, _ = env.step(np.random.choice([RIGHT,LEFT]))\n",
    "    #     frame2, reward2, is_done, _ = env.step(0)\n",
    "    done = True\n",
    "    actions = []\n",
    "    for _ in range(1000):\n",
    "\n",
    "        if done:\n",
    "            cx, hx = torch.zeros(1, 256), torch.zeros(1, 256)\n",
    "        else:\n",
    "            cx = cx.detach()\n",
    "            hx = hx.detach()\n",
    "\n",
    "        state = preprocess_batch([frame0])     \n",
    "\n",
    "        logits, value, hx, cx = main_model(state, hx, cx)\n",
    "\n",
    "        log_prob = F.softmax(logits, dim=-1)\n",
    "        action = torch.exp(log_prob).multinomial(num_samples=1).item()\n",
    "        frame0, r1, is_done, _ = env.step(action)\n",
    "\n",
    "\n",
    "        actions.append(action)\n",
    "        total_reward += r1\n",
    "        env.render()\n",
    "\n",
    "        if is_done:\n",
    "            break\n",
    "\n",
    "    return total_reward, actions"
   ]
  },
  {
   "cell_type": "code",
   "execution_count": 25,
   "metadata": {},
   "outputs": [
    {
     "name": "stdout",
     "output_type": "stream",
     "text": [
      "Reward for test run #1: 2.0\n",
      "Reward for test run #2: 0.0\n",
      "Reward for test run #3: 1.0\n",
      "Reward for test run #4: 3.0\n",
      "Reward for test run #5: 4.0\n",
      "Reward for test run #6: 1.0\n",
      "Reward for test run #7: 3.0\n",
      "Reward for test run #8: 0.0\n",
      "Reward for test run #9: 1.0\n",
      "Reward for test run #10: 0.0\n"
     ]
    }
   ],
   "source": [
    "import time\n",
    "time.sleep(1)\n",
    "for i in range(10):\n",
    "    tr, _ = test()\n",
    "    print(f\"Reward for test run #{i+1}: {tr}\")"
   ]
  },
  {
   "cell_type": "markdown",
   "metadata": {},
   "source": [
    "## Analysis"
   ]
  },
  {
   "cell_type": "code",
   "execution_count": null,
   "metadata": {},
   "outputs": [],
   "source": [
    "#TODO"
   ]
  }
 ],
 "metadata": {
  "kernelspec": {
   "display_name": "Python 3",
   "language": "python",
   "name": "python3"
  },
  "language_info": {
   "codemirror_mode": {
    "name": "ipython",
    "version": 3
   },
   "file_extension": ".py",
   "mimetype": "text/x-python",
   "name": "python",
   "nbconvert_exporter": "python",
   "pygments_lexer": "ipython3",
   "version": "3.7.6"
  }
 },
 "nbformat": 4,
 "nbformat_minor": 4
}
