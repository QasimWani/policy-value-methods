{
 "cells": [
  {
   "cell_type": "markdown",
   "metadata": {},
   "source": [
    "### Use the Asynchronous Advantage Actor Critic (A3C) Policy Gradient Method to solve Breakout"
   ]
  },
  {
   "cell_type": "code",
   "execution_count": 1,
   "metadata": {},
   "outputs": [],
   "source": [
    "import gym\n",
    "import numpy as np\n",
    "import matplotlib.pyplot as plt\n",
    "import pandas as pd\n",
    "from scipy.signal import lfilter\n",
    "\n",
    "import progressbar as pb\n",
    "\n",
    "import torch\n",
    "import torch.nn as nn\n",
    "import torch.nn.functional as F\n",
    "import torch.optim as optim\n",
    "import torch.multiprocessing as mp\n",
    "\n",
    "from torchsummary import summary"
   ]
  },
  {
   "cell_type": "code",
   "execution_count": 2,
   "metadata": {},
   "outputs": [],
   "source": [
    "env_id = 'BreakoutDeterministic-v4'\n",
    "env = gym.make(env_id)"
   ]
  },
  {
   "cell_type": "code",
   "execution_count": 3,
   "metadata": {},
   "outputs": [
    {
     "data": {
      "text/plain": [
       "Box(210, 160, 3)"
      ]
     },
     "execution_count": 3,
     "metadata": {},
     "output_type": "execute_result"
    }
   ],
   "source": [
    "env.observation_space"
   ]
  },
  {
   "cell_type": "code",
   "execution_count": 4,
   "metadata": {},
   "outputs": [
    {
     "name": "stdout",
     "output_type": "stream",
     "text": [
      "Actions:Discrete(4)\n",
      "Meanings:['NOOP', 'FIRE', 'RIGHT', 'LEFT']\n"
     ]
    }
   ],
   "source": [
    "print(f\"Actions:{env.action_space}\\nMeanings:{env.unwrapped.get_action_meanings()}\")"
   ]
  },
  {
   "cell_type": "code",
   "execution_count": 5,
   "metadata": {},
   "outputs": [],
   "source": [
    "device = torch.device(\"cuda:0\" if torch.cuda.is_available() else \"cpu\") #convert to GPU if available"
   ]
  },
  {
   "cell_type": "markdown",
   "metadata": {},
   "source": [
    "## Preprocess Image"
   ]
  },
  {
   "cell_type": "code",
   "execution_count": 6,
   "metadata": {},
   "outputs": [],
   "source": [
    "## Utils\n",
    "def preprocess_single_frame(image, bkg_color = np.array([144, 72, 17])):\n",
    "    \"\"\"\n",
    "    Converts an image from RGB channel to B&W channels.\n",
    "    Also performs downscale to 80x80. Performs normalization.\n",
    "    @Param:\n",
    "    1. image: (array_like) input image. shape = (210, 160, 3)\n",
    "    2. bkg_color: (np.array) standard encoding for brown in RGB with alpha = 0.0\n",
    "    @Return:\n",
    "    - img: (array_like) B&W, downscaled, normalized image of shape (80x80)\n",
    "    \"\"\"\n",
    "    img = np.mean(image[35:195:2,::2]-bkg_color, axis=-1)/255.\n",
    "    return img\n",
    "\n",
    "#Utils\n",
    "def preprocess_batch(images, bkg_color = np.array([144, 72, 17])):\n",
    "    \"\"\"\n",
    "    convert outputs of parallelEnv to inputs to pytorch neural net\"\"\"\n",
    "    list_of_images = np.asarray(images)\n",
    "    if len(list_of_images.shape) < 5:\n",
    "        list_of_images = np.expand_dims(list_of_images, 1)\n",
    "    # subtract bkg and crop\n",
    "    list_of_images_prepro = np.mean(list_of_images[:,:,34:-16:2,::2]-bkg_color,\n",
    "                                    axis=-1)/255.\n",
    "    batch_input = np.swapaxes(list_of_images_prepro,0,1)\n",
    "    return torch.from_numpy(batch_input).float().to(device)"
   ]
  },
  {
   "cell_type": "code",
   "execution_count": 7,
   "metadata": {},
   "outputs": [],
   "source": [
    "state = env.reset()\n",
    "for _ in range(20):#skip 20 frames\n",
    "    frame, _, _, _ = env.step(np.random.randint(0, env.action_space.n))"
   ]
  },
  {
   "cell_type": "code",
   "execution_count": 8,
   "metadata": {},
   "outputs": [
    {
     "data": {
      "image/png": "[encoded data removed]",
      "text/plain": [
       "<Figure size 432x288 with 2 Axes>"
      ]
     },
     "metadata": {
      "needs_background": "light"
     },
     "output_type": "display_data"
    }
   ],
   "source": [
    "#Plot processed and raw image\n",
    "plt.subplot(1,2,1)\n",
    "plt.imshow(frame)\n",
    "plt.title('original image')\n",
    "\n",
    "plt.subplot(1,2,2)\n",
    "plt.title('preprocessed image')\n",
    "# 80 x 80 black and white image\n",
    "plt.imshow(preprocess_single_frame(frame), cmap='Greys')\n",
    "plt.show()"
   ]
  },
  {
   "cell_type": "markdown",
   "metadata": {},
   "source": [
    "# Actor-Critic"
   ]
  },
  {
   "cell_type": "markdown",
   "metadata": {},
   "source": [
    "![actor critic achitecture](https://www.mdpi.com/energies/energies-09-00725/article_deploy/html/images/energies-09-00725-g001-1024.png)"
   ]
  },
  {
   "cell_type": "code",
   "execution_count": 9,
   "metadata": {},
   "outputs": [],
   "source": [
    "#DEFINE Constants\n",
    "GAMMA = 0.99\n",
    "TAU = 1.0\n",
    "LR = 1e-3\n",
    "MAX_EPISODE_LENGTH = 1e8"
   ]
  },
  {
   "cell_type": "code",
   "execution_count": 10,
   "metadata": {},
   "outputs": [],
   "source": [
    "class ActorCritic(nn.Module):\n",
    "    def __init__(self, action_size=4, num_frames=2):\n",
    "        super(ActorCritic, self).__init__()\n",
    "        self.action_size = action_size\n",
    "        \n",
    "        #Define the CNN for Actor & Critic\n",
    "        self.conv1 = nn.Conv2d(num_frames, 32, 3, stride=2, padding=1) #output = 40x40x32\n",
    "        self.conv2 = nn.Conv2d(32, 32, 3, stride=2, padding=1) #output = 20x20x32\n",
    "        self.conv3 = nn.Conv2d(32, 32, 3, stride=2, padding=1) #output = 10x10x32\n",
    "        self.conv4 = nn.Conv2d(32, 32, 3, stride=2, padding=1) #output = 5x5x32\n",
    "        \n",
    "        self.size = 5*5*32 #800\n",
    "\n",
    "        #FC layer\n",
    "        self.lstm = nn.LSTMCell(input_size=self.size, hidden_size=512)#lstm cell to prevent vanishing gradients\n",
    "        \n",
    "        # Define Actor and Critic network\n",
    "        # Critic evaluates the state value function, V(π) using TD estimate.\n",
    "        # Actor evaluates the policy π(a|s) distribution\n",
    "        \n",
    "        self.critic_linear, self.actor_linear = nn.Linear(512, 1), nn.Linear(512, self.action_size)\n",
    "        \n",
    "    def forward(self, x, hx, cx):\n",
    "        \"\"\"\n",
    "        Peforms one-pass for the Conv layers.\n",
    "        @Param:\n",
    "        1. x - shape: (2, 80, 80); 2 stacked frames of 80x80 images\n",
    "        2. hx - hidden state of the RNN. shape: (1x512)\n",
    "        3. cx - confidence state of the RNN. shape: (1x512)\n",
    "        @Return:\n",
    "        1. critic estimated value, V(π)\n",
    "        2. actor policy distribution, π(a|s) as logits\n",
    "        \"\"\"\n",
    "        #4 conv nets without max pool layers, simple Relu activation f(x)\n",
    "        x = F.relu(self.conv1(x))\n",
    "        x = F.relu(self.conv2(x))\n",
    "        x = F.relu(self.conv3(x))\n",
    "        x = F.relu(self.conv4(x))\n",
    "        x = x.view(-1,self.size) #flatten\n",
    "        hx, cx = self.lstm(x, (hx, cx)) #dynamic calculation for final confidence & hidden state\n",
    "        value = self.critic_linear(hx) #CRITIC: calculates estimated state value function, V(π)\n",
    "        logits = self.actor_linear(hx) #ACTOR:  calculates policy distribution π(a|s)\n",
    "        \n",
    "        return logits, value, hx, cx"
   ]
  },
  {
   "cell_type": "code",
   "execution_count": 11,
   "metadata": {},
   "outputs": [],
   "source": [
    "agent = ActorCritic()"
   ]
  },
  {
   "cell_type": "markdown",
   "metadata": {},
   "source": [
    "# Optimizer\n",
    "<p> A critical component to an A3C model is the ability to share parameters across\n",
    "    multiple agents running asynchronously such that they can collectively learn from\n",
    "    each other. This is done by the cross-integration (sharing) of gradients across all processes.\n",
    "</p>"
   ]
  },
  {
   "cell_type": "code",
   "execution_count": 12,
   "metadata": {},
   "outputs": [],
   "source": [
    "class SharedOptimizer(optim.Adam):\n",
    "    \"\"\"Implementation of shared parameter model using Adam optimizer\"\"\"\n",
    "    def __init__(self, params, lr=LR):\n",
    "        super(SharedOptimizer, self).__init__(params)\n",
    "        for group in self.param_groups:\n",
    "            for params in group['params']:\n",
    "                state = self.state[params]\n",
    "                state['step'] = 0\n",
    "                state['exp_avg'] = torch.zeros_like(params.data).share_memory_()\n",
    "                state['exp_avg_sq'] = torch.zeros_like(params.data).share_memory_()"
   ]
  },
  {
   "cell_type": "code",
   "execution_count": 13,
   "metadata": {},
   "outputs": [],
   "source": [
    "optimizer = SharedOptimizer(agent.parameters()) #define optimizer (uses Adam, instead of SGD)"
   ]
  },
  {
   "cell_type": "markdown",
   "metadata": {},
   "source": [
    "## Generalized Advantage Estimator \n",
    "<br>\n",
    "<p>\n",
    "    Generalized Advantage Estimator (GAE) helps us pick the best value for N-step boostrapping\n",
    "    by incorporating λ as an added hyper-parameter to tune accordingly that will minimize the\n",
    "    bias-variance tradeoff.\n",
    "    <br>\n",
    "    The derivation can be thought of as <a href=\"https://danieltakeshi.github.io/2017/04/02/notes-on-the-generalized-advantage-estimation-paper/#the-generalized-advantage-estimator\">the exponentially-decayed sum of residual terms.</a>\n",
    "</p>\n",
    "<p><strong>See the following <a href=\"https://arxiv.org/pdf/1506.02438.pdf\">derivation</a> for GAE estimator:</strong></p>"
   ]
  },
  {
   "cell_type": "markdown",
   "metadata": {},
   "source": [
    "![GAE Derivation](https://res.cloudinary.com/crammer/image/upload/v1596251771/Screen_Shot_2020-07-31_at_11.15.47_PM_feuhld.png)"
   ]
  },
  {
   "cell_type": "code",
   "execution_count": 14,
   "metadata": {},
   "outputs": [],
   "source": [
    "discount = lambda x, gamma: lfilter([1],[1,-gamma],x[::-1])[::-1] # computes discounted reward"
   ]
  },
  {
   "cell_type": "code",
   "execution_count": 174,
   "metadata": {},
   "outputs": [],
   "source": [
    "def compute_cost(values, log_probs, actions, rewards, gae_lambda=0.5):\n",
    "    \"\"\"\n",
    "    Calculates the policy (actor) and value (critic) loss\n",
    "    @Param:\n",
    "    1. values: (tensor) list of V(s) estimator, critic.\n",
    "    2. log_probs: (tensor) list of π(a|s) softmax output, actor.\n",
    "    3. actions: (tensor) actions taken from rollout of trajectory.\n",
    "    4. rewards: (tensor) rewards based on S,A pairs. true values, used to minimize loss.\n",
    "    5. gae_lambda: (float) [0-1] value of lambda for residual calculation. used in N-step bootstrap.\n",
    "    @Return:\n",
    "    - value_loss: (tensor) critic loss.\n",
    "    - policy_loss: (tensor) actor loss.\n",
    "    \"\"\"\n",
    "    np_values = values.view(-1).data.numpy() #convert torch.tensor to numpy array & flatten/reshape it\n",
    "    \n",
    "    #implement GAE\n",
    "    delta_t = np.asarray(rewards) + GAMMA * (np_values[1:] - np_values[:-1])\n",
    "    \n",
    "    log_probs = log_probs.gather(1, torch.tensor(actions).view(-1,1))\n",
    "    gae = discount(delta_t, GAMMA * TAU)#calculate Generative Advantage Estimate\n",
    "\n",
    "    #calculate policy_loss = -log( π(a|s) ) * ( R - V(s) )\n",
    "    policy_loss = -(log_probs.view(-1) * torch.FloatTensor(gae.copy())).sum()\n",
    "    \n",
    "    # l2 loss over value estimator\n",
    "    rewards[-1] += GAMMA * np_values[-1]\n",
    "    discounted_r = discount(np.asarray(rewards), GAMMA)\n",
    "    discounted_r = torch.tensor(discounted_r.copy(), dtype=torch.float32)\n",
    "    \n",
    "    value_loss = gae_lambda * (discounted_r - values[:-1,0]).pow(2).sum()#set lambda = .5 based on GAE param\n",
    "\n",
    "    entropy_loss = (-log_probs * torch.exp(log_probs)).sum() # entropy = ∑ -log(π(a|s))*e^(log(π(a|s)))\n",
    "    #return policy_loss + 0.5 * value_loss - 0.01 * entropy_loss\n",
    "    return policy_loss + value_loss + entropy_loss #total loss"
   ]
  },
  {
   "cell_type": "markdown",
   "metadata": {},
   "source": [
    "## Train"
   ]
  },
  {
   "cell_type": "code",
   "execution_count": 175,
   "metadata": {},
   "outputs": [],
   "source": [
    "# Utils\n",
    "def sync_models(model, shared_model):\n",
    "    \"\"\"\n",
    "    Syncs the gradients from local model to shared model as a critical part of the A3C algorithm.\n",
    "    Updates the pointer based reference.\n",
    "    @param:\n",
    "    1. model: local model to sync from.\n",
    "    2. shared_model: global model to sync into.\n",
    "    \"\"\"\n",
    "    for local_param, shared_param in zip(model.parameters(), shared_model.parameters()):\n",
    "        if(shared_param.grad is not None):\n",
    "            return\n",
    "        shared_param.grad = local_param.grad #sync"
   ]
  },
  {
   "cell_type": "code",
   "execution_count": 176,
   "metadata": {},
   "outputs": [],
   "source": [
    "def get_stacked_frame(reset=True):\n",
    "    \"\"\"\n",
    "    Returns a 1x2x80x80 tensor by concatenating 2 processed frames.\n",
    "    @Param:\n",
    "    - reset: (boolean, optional) if True, gets the first 2 frames of the env.\n",
    "    @return:\n",
    "    - state: a 1x2x80x80 torch.Tensor\n",
    "    - frame0: first frame of size 80x80 \n",
    "    - frame1: second frame of size 80x80 \n",
    "    \"\"\"\n",
    "    frame0 = env.reset()\n",
    "    frame1,_,_,_ = env.step(1) #fire\n",
    "    state = preprocess_batch([frame0, frame1]) #1x2x80x80 tensor\n",
    "    return state, frame0, frame1"
   ]
  },
  {
   "cell_type": "code",
   "execution_count": 253,
   "metadata": {},
   "outputs": [],
   "source": [
    "def train(shared_model, optimizer=None, num_episode=10, num_steps=20):\n",
    "    \"\"\"\n",
    "    Train A3C agent.\n",
    "    @Param:\n",
    "    1. shared_model: instance of ActorCritic class, globally shared model across all parallel agents.\n",
    "    2. optimizer: instance of SharedOptimizer class, default = None (created as local object).\n",
    "    3. num_episode: (int) number of episodes to train for.\n",
    "    4. num_steps: (int) number of forward pass to pass through. default = 20.\n",
    "    \"\"\"\n",
    "    model = ActorCritic() #local model\n",
    "    \n",
    "    if(optimizer is None):#create optimizer\n",
    "        optimizer = SharedOptimizer(shared_model.parameters(), lr=LR)\n",
    "    \n",
    "    model.train()#Set the local model in training mode\n",
    "    \n",
    "    #Extract stacked frames\n",
    "    \n",
    "    state, frame0, frame1 = get_stacked_frame()#1x2x80x80 Tensor\n",
    "    episode_length = 0\n",
    "    done = True\n",
    "    \n",
    "    #return metrics\n",
    "    overall_reward = []\n",
    "\n",
    "    for i in range(1, num_episode+1):\n",
    "        model.load_state_dict(shared_model.state_dict()) #syncs the shared model with the local model\n",
    "            \n",
    "        if done:\n",
    "            cx, hx = torch.zeros(1, 512), torch.zeros(1, 512)\n",
    "        else:\n",
    "            cx = cx.detach()\n",
    "            hx = hx.detach()\n",
    "        \n",
    "        values = []; log_probs = []; rewards = []; actions = []\n",
    "        for step in range(num_steps):\n",
    "            episode_length += 1\n",
    "            logits, value, hx, cx = model(state, hx, cx)\n",
    "            \n",
    "            prob = F.softmax(logits, dim=-1)\n",
    "            log_prob = F.log_softmax(logits, dim=-1)\n",
    "            \n",
    "            action = prob.multinomial(num_samples=1).data[0]\n",
    "            \n",
    "            state, reward, done, _ = env.step(action.numpy())\n",
    "            \n",
    "            #Update frames\n",
    "            frame0 = frame1\n",
    "            frame1 = state\n",
    "            #stack frames to an 1x2x80x80 Tensor\n",
    "            state = preprocess_batch([frame0, frame1])\n",
    "            \n",
    "            #modify reward estimate, since 0.0 reward doesn't guarentee faster convergence\n",
    "            if(reward == 0):\n",
    "                reward = -1\n",
    "                \n",
    "            #update data\n",
    "            values.append(value.detach())\n",
    "            log_probs.append(log_prob)\n",
    "            rewards.append(reward)\n",
    "            actions.append(action)\n",
    "                        \n",
    "            if done or episode_length > MAX_EPISODE_LENGTH:\n",
    "                episode_length = 0\n",
    "                state, frame0, frame1 = get_stacked_frame()#1x2x80x80 Tensor\n",
    "                break\n",
    "        overall_reward.append(sum(rewards)) #cumulitive reward per episode\n",
    "    \n",
    "    \n",
    "    #Solves broadcasting error\n",
    "    next_value = torch.zeros(1,1) if done else model(state, hx, cx)[1] #return value\n",
    "    values.append(next_value.detach())\n",
    "    \n",
    "    #compute loss\n",
    "    loss = compute_cost(torch.cat(values), torch.cat(log_probs), actions, rewards)\n",
    "    print(f\"cost after {num_episode} episodes: {loss}\")\n",
    "    optimizer.zero_grad()#reset gradient\n",
    "    loss.backward() #perform backprop\n",
    "    \n",
    "    #synchronize shared_model with local_model\n",
    "    sync_models(model, shared_model)\n",
    "    \n",
    "    #Perform single forward step\n",
    "    optimizer.step()\n",
    "    \n",
    "    return overall_reward"
   ]
  },
  {
   "cell_type": "markdown",
   "metadata": {},
   "source": [
    "## Parallelization"
   ]
  },
  {
   "cell_type": "code",
   "execution_count": 258,
   "metadata": {},
   "outputs": [
    {
     "name": "stdout",
     "output_type": "stream",
     "text": [
      "cost after 300 episodes: 984.9374389648438\n"
     ]
    }
   ],
   "source": [
    "rewards = train(agent, num_episode=300)"
   ]
  },
  {
   "cell_type": "code",
   "execution_count": 259,
   "metadata": {},
   "outputs": [
    {
     "data": {
      "text/plain": [
       "[<matplotlib.lines.Line2D at 0x7fe06c5e4358>]"
      ]
     },
     "execution_count": 259,
     "metadata": {},
     "output_type": "execute_result"
    },
    {
     "data": {
      "image/png": "[encoded data removed]",
      "text/plain": [
       "<Figure size 432x288 with 1 Axes>"
      ]
     },
     "metadata": {
      "needs_background": "light"
     },
     "output_type": "display_data"
    }
   ],
   "source": [
    "plt.plot(rewards)"
   ]
  }
 ],
 "metadata": {
  "kernelspec": {
   "display_name": "Python 3",
   "language": "python",
   "name": "python3"
  },
  "language_info": {
   "codemirror_mode": {
    "name": "ipython",
    "version": 3
   },
   "file_extension": ".py",
   "mimetype": "text/x-python",
   "name": "python",
   "nbconvert_exporter": "python",
   "pygments_lexer": "ipython3",
   "version": "3.6.10"
  }
 },
 "nbformat": 4,
 "nbformat_minor": 4
}
