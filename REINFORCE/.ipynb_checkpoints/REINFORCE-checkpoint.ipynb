{
 "cells": [
  {
   "cell_type": "code",
   "execution_count": 1,
   "metadata": {},
   "outputs": [],
   "source": [
    "### Implement REINFORCE (Monte Carlo Policy Gradients) to solve LunarLander task in OpenAI-gym"
   ]
  },
  {
   "cell_type": "code",
   "execution_count": 2,
   "metadata": {},
   "outputs": [],
   "source": [
    "import gym\n",
    "import numpy as np\n",
    "import matplotlib.pyplot as plt\n",
    "from collections import deque\n",
    "\n",
    "import torch\n",
    "# torch.manual_seed(0) # set random seed\n",
    "import torch.nn as nn\n",
    "import torch.nn.functional as F\n",
    "import torch.optim as optim\n",
    "from torch.distributions import Categorical #bernoulli distribution\n",
    "\n",
    "import time #human agent"
   ]
  },
  {
   "cell_type": "code",
   "execution_count": 3,
   "metadata": {},
   "outputs": [],
   "source": [
    "env_id = 'LunarLander-v2'\n",
    "env = gym.make(env_id)\n",
    "# env.seed(0)"
   ]
  },
  {
   "cell_type": "code",
   "execution_count": 4,
   "metadata": {},
   "outputs": [
    {
     "data": {
      "text/plain": [
       "Box(8,)"
      ]
     },
     "execution_count": 4,
     "metadata": {},
     "output_type": "execute_result"
    }
   ],
   "source": [
    "env.observation_space"
   ]
  },
  {
   "cell_type": "code",
   "execution_count": 5,
   "metadata": {},
   "outputs": [
    {
     "data": {
      "text/plain": [
       "Discrete(4)"
      ]
     },
     "execution_count": 5,
     "metadata": {},
     "output_type": "execute_result"
    }
   ],
   "source": [
    "env.action_space"
   ]
  },
  {
   "cell_type": "code",
   "execution_count": 6,
   "metadata": {},
   "outputs": [
    {
     "data": {
      "text/plain": [
       "False"
      ]
     },
     "execution_count": 6,
     "metadata": {},
     "output_type": "execute_result"
    }
   ],
   "source": [
    "## check for bounds\n",
    "env.observation_space.is_bounded()"
   ]
  },
  {
   "cell_type": "code",
   "execution_count": 7,
   "metadata": {},
   "outputs": [],
   "source": [
    "LEARNING_RATE = 0.5*1e-2 #set learning rate"
   ]
  },
  {
   "cell_type": "markdown",
   "metadata": {},
   "source": [
    "## Define Policy"
   ]
  },
  {
   "cell_type": "code",
   "execution_count": 8,
   "metadata": {},
   "outputs": [],
   "source": [
    "class Policy(nn.Module):\n",
    "    \"\"\"Defines the general policy for an agent following simple NN architecture\"\"\"\n",
    "    def __init__(self, state_size, action_size, h1=16):\n",
    "        \"\"\"Creates the model using a 3 Hidden layer NN\"\"\"\n",
    "        super(Policy, self).__init__()#inherit methods from parent class & override forward f(x)\n",
    "        self.fc1 = nn.Linear(in_features=state_size, out_features=h1)\n",
    "        self.fc2 = nn.Linear(in_features=h1, out_features=action_size)\n",
    "    def forward(self, x):\n",
    "        \"\"\"\n",
    "        Performs one-pass from state -> action mapping.\n",
    "        @Param:\n",
    "        1. x - input state\n",
    "        @return:\n",
    "        x - action as a set of vector following stochastic measure. softmax output to logits from NN.\n",
    "        \"\"\"\n",
    "        if(type(x) != torch.Tensor):\n",
    "            try:\n",
    "                x = torch.from_numpy(x).float().unsqueeze(0)#convert ndarray to torch.Tensor object\n",
    "            except:\n",
    "                raise TypeError(f\"expected type torch.Tensor. got {type(x)}\")\n",
    "        \n",
    "        x = F.relu(self.fc1(x))\n",
    "        x = self.fc2(x)\n",
    "        return F.softmax(x, dim=1)\n",
    "    def act(self, state):\n",
    "        \"\"\"\n",
    "        Uses current deterministic policy to determine the set of action to perform\n",
    "        @param:\n",
    "        1. state: input state of env. shape = env.observation_space.shape[0]\n",
    "        @return:\n",
    "        - action: (int) discrete action to take by the agent.\n",
    "        - log_probs: (array_like) log of output from softmax unit. set of log probabilities.\n",
    "        \"\"\"\n",
    "        probs = self.forward(state).cpu() #get estimated action following stochastic measure\n",
    "        m = Categorical(probs)#get Bernoulli distribution of action\n",
    "        action = m.sample() #returns the action based on the probability of each based on Benoulli(probs)\n",
    "        return action.item(), m.log_prob(action)"
   ]
  },
  {
   "cell_type": "code",
   "execution_count": 9,
   "metadata": {},
   "outputs": [],
   "source": [
    "policy = Policy(env.observation_space.shape[0], env.action_space.n)"
   ]
  },
  {
   "cell_type": "code",
   "execution_count": 10,
   "metadata": {},
   "outputs": [],
   "source": [
    "optimizer = optim.Adam(params=policy.parameters(), lr=LEARNING_RATE)"
   ]
  },
  {
   "cell_type": "markdown",
   "metadata": {},
   "source": [
    "### Train using REINFORCE"
   ]
  },
  {
   "cell_type": "code",
   "execution_count": 11,
   "metadata": {},
   "outputs": [],
   "source": [
    "def reinforce(num_episode=20000, max_tau=1000, gamma=1.0, print_every=100):\n",
    "    \"\"\"\n",
    "    Implements the Reinforce algorithm.\n",
    "    See paper for more details: https://bit.ly/REINFORCE_paper\n",
    "    @param:\n",
    "    1. num_episode: number of epochs to train for.\n",
    "    2. max_tau: length of trajectory, 𝝉.\n",
    "    3. gamma: discounted return, γ.\n",
    "    4. print_every: pprint details after very X epochs.\n",
    "    @return:\n",
    "    - scores: (array_like) expected return over epochs.\n",
    "    \"\"\"\n",
    "    scores_deque = deque(maxlen=100)# ∑R for last N=100 episodes\n",
    "    scores = []\n",
    "    for i_episode in range(1, num_episode + 1):\n",
    "        saved_log_probs = []\n",
    "        rewards = []\n",
    "        state = env.reset()#reset the environment at the start of each episode\n",
    "        for t in range(max_tau):#iterate through trajectory\n",
    "            action, log_probs = policy.act(state)\n",
    "            state, reward, done,_ = env.step(action)\n",
    "            rewards.append(reward)\n",
    "            saved_log_probs.append(log_probs)\n",
    "            if(done):\n",
    "                break\n",
    "        scores_deque.append(sum(rewards))\n",
    "        scores.append(sum(rewards))\n",
    "        \n",
    "        #calculate Reward with gamma in account\n",
    "        discounts = [gamma**i for i in range(len(rewards)+1)]\n",
    "        R = sum([g*r for g,r in zip(discounts, rewards)])#R = sum(γ^0*reward_0 + γ^1*reward_1 + γ^n*reward_n)\n",
    "\n",
    "        ### Implement Stochastic Gradient Ascent\n",
    "        policy_loss = []#estimated loss of the Policy (should be maximized towards optimal policy, see Hill climb)\n",
    "        for log_prob in saved_log_probs:\n",
    "            policy_loss.append(-log_prob*R)#-ve takes in account for gradient ascent\n",
    "        \n",
    "        policy_loss = torch.cat(policy_loss).sum() #find total loss, U(Θ)\n",
    "        \n",
    "        optimizer.zero_grad()#clear gradients\n",
    "        policy_loss.backward()#performs back-prop\n",
    "        optimizer.step()#performs a single update\n",
    "    \n",
    "        if i_episode % print_every == 0:\n",
    "            print('Episode {}\\tAverage Score: {:.2f}'.format(i_episode, np.mean(scores_deque)))\n",
    "        if np.mean(scores_deque)>=200.0:\n",
    "            print('Environment solved in {:d} episodes!\\tAverage Score: {:.2f}'.format(i_episode-100, np.mean(scores_deque)))\n",
    "            break\n",
    "    return scores"
   ]
  },
  {
   "cell_type": "code",
   "execution_count": 12,
   "metadata": {
    "scrolled": true
   },
   "outputs": [
    {
     "name": "stdout",
     "output_type": "stream",
     "text": [
      "Episode 100\tAverage Score: -173.72\n",
      "Episode 200\tAverage Score: -194.32\n",
      "Episode 300\tAverage Score: -142.07\n",
      "Episode 400\tAverage Score: -140.14\n",
      "Episode 500\tAverage Score: -130.31\n",
      "Episode 600\tAverage Score: -115.80\n",
      "Episode 700\tAverage Score: -118.76\n",
      "Episode 800\tAverage Score: -110.89\n",
      "Episode 900\tAverage Score: -105.05\n",
      "Episode 1000\tAverage Score: -100.01\n",
      "Episode 1100\tAverage Score: -102.30\n",
      "Episode 1200\tAverage Score: -110.36\n",
      "Episode 1300\tAverage Score: -98.86\n",
      "Episode 1400\tAverage Score: -95.65\n",
      "Episode 1500\tAverage Score: -85.86\n",
      "Episode 1600\tAverage Score: -87.90\n",
      "Episode 1700\tAverage Score: -57.28\n",
      "Episode 1800\tAverage Score: -46.50\n",
      "Episode 1900\tAverage Score: -36.16\n",
      "Episode 2000\tAverage Score: -23.74\n",
      "Episode 2100\tAverage Score: -16.01\n",
      "Episode 2200\tAverage Score: -14.32\n",
      "Episode 2300\tAverage Score: -16.56\n",
      "Episode 2400\tAverage Score: -13.89\n",
      "Episode 2500\tAverage Score: -10.39\n",
      "Episode 2600\tAverage Score: -13.96\n",
      "Episode 2700\tAverage Score: 9.20\n",
      "Episode 2800\tAverage Score: 9.02\n",
      "Episode 2900\tAverage Score: 0.31\n",
      "Episode 3000\tAverage Score: 13.47\n",
      "Episode 3100\tAverage Score: 2.21\n",
      "Episode 3200\tAverage Score: 13.35\n",
      "Episode 3300\tAverage Score: 21.92\n",
      "Episode 3400\tAverage Score: 20.66\n",
      "Episode 3500\tAverage Score: 21.73\n",
      "Episode 3600\tAverage Score: 31.07\n",
      "Episode 3700\tAverage Score: 23.92\n",
      "Episode 3800\tAverage Score: 23.95\n",
      "Episode 3900\tAverage Score: 63.26\n",
      "Episode 4000\tAverage Score: -7.65\n",
      "Episode 4100\tAverage Score: 30.96\n",
      "Episode 4200\tAverage Score: 32.53\n",
      "Episode 4300\tAverage Score: -20.77\n",
      "Episode 4400\tAverage Score: 72.26\n",
      "Episode 4500\tAverage Score: 51.53\n",
      "Episode 4600\tAverage Score: 66.14\n",
      "Episode 4700\tAverage Score: 158.64\n",
      "Episode 4800\tAverage Score: 101.61\n",
      "Episode 4900\tAverage Score: 38.73\n",
      "Episode 5000\tAverage Score: 41.99\n",
      "Episode 5100\tAverage Score: 126.43\n",
      "Episode 5200\tAverage Score: 172.71\n",
      "Episode 5300\tAverage Score: 129.33\n",
      "Environment solved in 5299 episodes!\tAverage Score: 201.16\n"
     ]
    }
   ],
   "source": [
    "scores = reinforce()"
   ]
  },
  {
   "cell_type": "markdown",
   "metadata": {},
   "source": [
    "### Construct plot with moving averages"
   ]
  },
  {
   "cell_type": "code",
   "execution_count": 47,
   "metadata": {},
   "outputs": [],
   "source": [
    "import pandas as pd"
   ]
  },
  {
   "cell_type": "code",
   "execution_count": 48,
   "metadata": {},
   "outputs": [],
   "source": [
    "df = pd.DataFrame(scores)"
   ]
  },
  {
   "cell_type": "code",
   "execution_count": 63,
   "metadata": {},
   "outputs": [
    {
     "data": {
      "image/png": "[encoded data removed]",
      "text/plain": [
       "<Figure size 432x288 with 1 Axes>"
      ]
     },
     "metadata": {
      "needs_background": "light"
     },
     "output_type": "display_data"
    }
   ],
   "source": [
    "plt.plot(df, label=\"Original\")\n",
    "plt.plot(df.rolling(window=50).mean(), label=\"Rolling\")\n",
    "plt.xlabel(\"Episode\")\n",
    "plt.ylabel(\"Reward\")\n",
    "plt.show()"
   ]
  },
  {
   "cell_type": "code",
   "execution_count": 41,
   "metadata": {},
   "outputs": [],
   "source": [
    "reward_arr = []\n",
    "for i in range(3):\n",
    "    total_reward = 0\n",
    "    state = env.reset()\n",
    "    while True:\n",
    "        action, _ = policy.act(state)\n",
    "        env.render()\n",
    "        state, reward, done, _ = env.step(action)\n",
    "        total_reward += reward\n",
    "        if done:\n",
    "            reward_arr.append(total_reward)\n",
    "            break "
   ]
  },
  {
   "cell_type": "code",
   "execution_count": 42,
   "metadata": {},
   "outputs": [
    {
     "data": {
      "text/plain": [
       "243.0513703557505"
      ]
     },
     "execution_count": 42,
     "metadata": {},
     "output_type": "execute_result"
    }
   ],
   "source": [
    "np.mean(reward_arr)"
   ]
  },
  {
   "cell_type": "markdown",
   "metadata": {},
   "source": [
    "### Save the model weights"
   ]
  },
  {
   "cell_type": "code",
   "execution_count": 34,
   "metadata": {},
   "outputs": [],
   "source": [
    "torch.save(policy.state_dict(), \"model.pth\")"
   ]
  },
  {
   "cell_type": "code",
   "execution_count": 36,
   "metadata": {},
   "outputs": [],
   "source": [
    "load_weights = torch.load(\"model.pth\")"
   ]
  },
  {
   "cell_type": "code",
   "execution_count": 38,
   "metadata": {},
   "outputs": [],
   "source": [
    "policy.load_state_dict(load_weights)"
   ]
  },
  {
   "cell_type": "code",
   "execution_count": null,
   "metadata": {},
   "outputs": [],
   "source": []
  }
 ],
 "metadata": {
  "kernelspec": {
   "display_name": "Python 3",
   "language": "python",
   "name": "python3"
  },
  "language_info": {
   "codemirror_mode": {
    "name": "ipython",
    "version": 3
   },
   "file_extension": ".py",
   "mimetype": "text/x-python",
   "name": "python",
   "nbconvert_exporter": "python",
   "pygments_lexer": "ipython3",
   "version": "3.7.3"
  }
 },
 "nbformat": 4,
 "nbformat_minor": 4
}
