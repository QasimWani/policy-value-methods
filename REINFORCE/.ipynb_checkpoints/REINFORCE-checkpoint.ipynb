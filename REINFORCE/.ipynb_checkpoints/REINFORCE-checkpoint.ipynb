{
 "cells": [
  {
   "cell_type": "code",
   "execution_count": 1,
   "metadata": {},
   "outputs": [],
   "source": [
    "### Implement REINFORCE (Monte Carlo Policy Gradients) to solve LunarLander task in OpenAI-gym"
   ]
  },
  {
   "cell_type": "code",
   "execution_count": 2,
   "metadata": {},
   "outputs": [],
   "source": [
    "import gym\n",
    "import numpy as np\n",
    "import matplotlib.pyplot as plt\n",
    "from collections import deque\n",
    "\n",
    "import torch\n",
    "# torch.manual_seed(0) # set random seed\n",
    "import torch.nn as nn\n",
    "import torch.nn.functional as F\n",
    "import torch.optim as optim\n",
    "from torch.distributions import Categorical #bernoulli distribution\n",
    "\n",
    "import time #human agent"
   ]
  },
  {
   "cell_type": "code",
   "execution_count": 3,
   "metadata": {},
   "outputs": [],
   "source": [
    "env_id = 'LunarLander-v2'\n",
    "env = gym.make(env_id)\n",
    "# env.seed(0)"
   ]
  },
  {
   "cell_type": "code",
   "execution_count": 4,
   "metadata": {},
   "outputs": [
    {
     "data": {
      "text/plain": [
       "Box(8,)"
      ]
     },
     "execution_count": 4,
     "metadata": {},
     "output_type": "execute_result"
    }
   ],
   "source": [
    "env.observation_space"
   ]
  },
  {
   "cell_type": "code",
   "execution_count": 5,
   "metadata": {},
   "outputs": [
    {
     "data": {
      "text/plain": [
       "Discrete(4)"
      ]
     },
     "execution_count": 5,
     "metadata": {},
     "output_type": "execute_result"
    }
   ],
   "source": [
    "env.action_space"
   ]
  },
  {
   "cell_type": "code",
   "execution_count": 6,
   "metadata": {},
   "outputs": [
    {
     "data": {
      "text/plain": [
       "False"
      ]
     },
     "execution_count": 6,
     "metadata": {},
     "output_type": "execute_result"
    }
   ],
   "source": [
    "## check for bounds\n",
    "env.observation_space.is_bounded()"
   ]
  },
  {
   "cell_type": "code",
   "execution_count": 7,
   "metadata": {},
   "outputs": [],
   "source": [
    "LEARNING_RATE = 1e-2 #set learning rate"
   ]
  },
  {
   "cell_type": "markdown",
   "metadata": {},
   "source": [
    "## Define Policy"
   ]
  },
  {
   "cell_type": "code",
   "execution_count": 8,
   "metadata": {},
   "outputs": [],
   "source": [
    "class Policy(nn.Module):\n",
    "    \"\"\"Defines the general policy for an agent following simple NN architecture\"\"\"\n",
    "    def __init__(self, state_size, action_size, h1=16):\n",
    "        \"\"\"Creates the model using a 3 Hidden layer NN\"\"\"\n",
    "        super(Policy, self).__init__()#inherit methods from parent class & override forward f(x)\n",
    "        self.fc1 = nn.Linear(in_features=state_size, out_features=h1)\n",
    "        self.fc2 = nn.Linear(in_features=h1, out_features=action_size)\n",
    "    def forward(self, x):\n",
    "        \"\"\"\n",
    "        Performs one-pass from state -> action mapping.\n",
    "        @Param:\n",
    "        1. x - input state\n",
    "        @return:\n",
    "        x - action as a set of vector following stochastic measure. softmax output to logits from NN.\n",
    "        \"\"\"\n",
    "        if(type(x) != torch.Tensor):\n",
    "            try:\n",
    "                x = torch.from_numpy(x).float().unsqueeze(0)#convert ndarray to torch.Tensor object\n",
    "            except:\n",
    "                raise TypeError(f\"expected type torch.Tensor. got {type(x)}\")\n",
    "        \n",
    "        x = F.relu(self.fc1(x))\n",
    "        x = self.fc2(x)\n",
    "        return F.softmax(x, dim=1)\n",
    "    def act(self, state):\n",
    "        \"\"\"\n",
    "        Uses current deterministic policy to determine the set of action to perform\n",
    "        @param:\n",
    "        1. state: input state of env. shape = env.observation_space.shape[0]\n",
    "        @return:\n",
    "        - action: (int) discrete action to take by the agent.\n",
    "        - log_probs: (array_like) log of output from softmax unit. set of log probabilities.\n",
    "        \"\"\"\n",
    "        probs = self.forward(state).cpu() #get estimated action following stochastic measure\n",
    "        m = Categorical(probs)#get Bernoulli distribution of action\n",
    "        action = m.sample() #returns the action based on the probability of each based on Benoulli(probs)\n",
    "        return action.item(), m.log_prob(action)"
   ]
  },
  {
   "cell_type": "code",
   "execution_count": 9,
   "metadata": {},
   "outputs": [],
   "source": [
    "policy = Policy(env.observation_space.shape[0], env.action_space.n)"
   ]
  },
  {
   "cell_type": "code",
   "execution_count": 10,
   "metadata": {},
   "outputs": [],
   "source": [
    "optimizer = optim.Adam(params=policy.parameters(), lr=LEARNING_RATE)"
   ]
  },
  {
   "cell_type": "markdown",
   "metadata": {},
   "source": [
    "### Train using REINFORCE"
   ]
  },
  {
   "cell_type": "code",
   "execution_count": 11,
   "metadata": {},
   "outputs": [],
   "source": [
    "def reinforce(num_episode=100000, max_tau=1000, gamma=1.0, print_every=100):\n",
    "    \"\"\"\n",
    "    Implements the Reinforce algorithm.\n",
    "    See paper for more details: https://bit.ly/REINFORCE_paper\n",
    "    @param:\n",
    "    1. num_episode: number of epochs to train for.\n",
    "    2. max_tau: length of trajectory, 𝝉.\n",
    "    3. gamma: discounted return, γ.\n",
    "    4. print_every: pprint details after very X epochs.\n",
    "    @return:\n",
    "    - scores: (array_like) expected return over epochs.\n",
    "    \"\"\"\n",
    "    scores_deque = deque(maxlen=100)# ∑R for last N=100 episodes\n",
    "    scores = []\n",
    "    for i_episode in range(1, num_episode + 1):\n",
    "        saved_log_probs = []\n",
    "        rewards = []\n",
    "        state = env.reset()#reset the environment at the start of each episode\n",
    "        for t in range(max_tau):#iterate through trajectory\n",
    "            action, log_probs = policy.act(state)\n",
    "            state, reward, done,_ = env.step(action)\n",
    "            rewards.append(reward)\n",
    "            saved_log_probs.append(log_probs)\n",
    "            if(done):\n",
    "                break\n",
    "        scores_deque.append(sum(rewards))\n",
    "        scores.append(sum(rewards))\n",
    "        \n",
    "        #calculate Reward with gamma in account\n",
    "        discounts = [gamma**i for i in range(len(rewards)+1)]\n",
    "        R = sum([g*r for g,r in zip(discounts, rewards)])#R = sum(γ^0*reward_0 + γ^1*reward_1 + γ^n*reward_n)\n",
    "\n",
    "        ### Implement Stochastic Gradient Ascent\n",
    "        policy_loss = []#estimated loss of the Policy (should be maximized towards optimal policy, see Hill climb)\n",
    "        for log_prob in saved_log_probs:\n",
    "            policy_loss.append(-log_prob*R)#-ve takes in account for gradient ascent\n",
    "        \n",
    "        policy_loss = torch.cat(policy_loss).sum() #find total loss, U(Θ)\n",
    "        \n",
    "        optimizer.zero_grad()#clear gradients\n",
    "        policy_loss.backward()#performs back-prop\n",
    "        optimizer.step()#performs a single update\n",
    "    \n",
    "        if i_episode % print_every == 0:\n",
    "            print('Episode {}\\tAverage Score: {:.2f}'.format(i_episode, np.mean(scores_deque)))\n",
    "        if np.mean(scores_deque)>=200.0:\n",
    "            print('Environment solved in {:d} episodes!\\tAverage Score: {:.2f}'.format(i_episode-100, np.mean(scores_deque)))\n",
    "            break\n",
    "    return scores"
   ]
  },
  {
   "cell_type": "code",
   "execution_count": 12,
   "metadata": {
    "scrolled": true
   },
   "outputs": [
    {
     "name": "stdout",
     "output_type": "stream",
     "text": [
      "Episode 100\tAverage Score: -161.13\n",
      "Episode 200\tAverage Score: -157.35\n",
      "Episode 300\tAverage Score: -146.56\n",
      "Episode 400\tAverage Score: -134.97\n",
      "Episode 500\tAverage Score: -148.65\n",
      "Episode 600\tAverage Score: -128.54\n",
      "Episode 700\tAverage Score: -119.13\n",
      "Episode 800\tAverage Score: -138.63\n",
      "Episode 900\tAverage Score: -111.10\n",
      "Episode 1000\tAverage Score: -82.73\n",
      "Episode 1100\tAverage Score: -74.17\n",
      "Episode 1200\tAverage Score: -62.83\n",
      "Episode 1300\tAverage Score: -55.02\n",
      "Episode 1400\tAverage Score: -452.68\n",
      "Episode 1500\tAverage Score: -521.71\n",
      "Episode 1600\tAverage Score: -370.60\n",
      "Episode 1700\tAverage Score: -341.12\n",
      "Episode 1800\tAverage Score: -157.71\n",
      "Episode 1900\tAverage Score: -10.47\n",
      "Episode 2000\tAverage Score: 0.34\n",
      "Episode 2100\tAverage Score: -10.09\n",
      "Episode 2200\tAverage Score: 1.57\n",
      "Episode 2300\tAverage Score: 1.32\n",
      "Episode 2400\tAverage Score: 5.51\n",
      "Episode 2500\tAverage Score: 3.41\n",
      "Episode 2600\tAverage Score: -1.52\n",
      "Episode 2700\tAverage Score: 3.57\n",
      "Episode 2800\tAverage Score: 6.34\n",
      "Episode 2900\tAverage Score: 3.25\n",
      "Episode 3000\tAverage Score: -0.55\n",
      "Episode 3100\tAverage Score: 0.40\n",
      "Episode 3200\tAverage Score: 9.67\n",
      "Episode 3300\tAverage Score: 13.44\n",
      "Episode 3400\tAverage Score: 10.63\n",
      "Episode 3500\tAverage Score: -79.32\n",
      "Episode 3600\tAverage Score: -14.70\n",
      "Episode 3700\tAverage Score: 14.72\n",
      "Episode 3800\tAverage Score: 9.26\n",
      "Episode 3900\tAverage Score: 7.57\n",
      "Episode 4000\tAverage Score: 19.63\n",
      "Episode 4100\tAverage Score: -33.92\n",
      "Episode 4200\tAverage Score: 43.05\n",
      "Episode 4300\tAverage Score: 92.79\n",
      "Episode 4400\tAverage Score: 59.22\n",
      "Episode 4500\tAverage Score: 108.09\n",
      "Episode 4600\tAverage Score: 126.71\n",
      "Episode 4700\tAverage Score: 36.82\n",
      "Episode 4800\tAverage Score: -4.21\n",
      "Episode 4900\tAverage Score: 175.68\n",
      "Episode 5000\tAverage Score: 149.29\n",
      "Episode 5100\tAverage Score: 119.98\n",
      "Episode 5200\tAverage Score: 182.55\n",
      "Episode 5300\tAverage Score: 145.00\n",
      "Episode 5400\tAverage Score: 88.11\n",
      "Episode 5500\tAverage Score: 160.56\n",
      "Episode 5600\tAverage Score: 3.66\n",
      "Episode 5700\tAverage Score: 81.09\n",
      "Episode 5800\tAverage Score: 53.35\n",
      "Episode 5900\tAverage Score: 29.53\n",
      "Episode 6000\tAverage Score: 36.32\n"
     ]
    },
    {
     "ename": "KeyboardInterrupt",
     "evalue": "",
     "output_type": "error",
     "traceback": [
      "\u001b[0;31m---------------------------------------------------------------------------\u001b[0m",
      "\u001b[0;31mKeyboardInterrupt\u001b[0m                         Traceback (most recent call last)",
      "\u001b[0;32m<ipython-input-12-0c46cce5f106>\u001b[0m in \u001b[0;36m<module>\u001b[0;34m\u001b[0m\n\u001b[0;32m----> 1\u001b[0;31m \u001b[0mscores\u001b[0m \u001b[0;34m=\u001b[0m \u001b[0mreinforce\u001b[0m\u001b[0;34m(\u001b[0m\u001b[0;34m)\u001b[0m\u001b[0;34m\u001b[0m\u001b[0;34m\u001b[0m\u001b[0m\n\u001b[0m",
      "\u001b[0;32m<ipython-input-11-d23baedb75a5>\u001b[0m in \u001b[0;36mreinforce\u001b[0;34m(num_episode, max_tau, gamma, print_every)\u001b[0m\n\u001b[1;32m     39\u001b[0m \u001b[0;34m\u001b[0m\u001b[0m\n\u001b[1;32m     40\u001b[0m         \u001b[0moptimizer\u001b[0m\u001b[0;34m.\u001b[0m\u001b[0mzero_grad\u001b[0m\u001b[0;34m(\u001b[0m\u001b[0;34m)\u001b[0m\u001b[0;31m#clear gradients\u001b[0m\u001b[0;34m\u001b[0m\u001b[0;34m\u001b[0m\u001b[0m\n\u001b[0;32m---> 41\u001b[0;31m         \u001b[0mpolicy_loss\u001b[0m\u001b[0;34m.\u001b[0m\u001b[0mbackward\u001b[0m\u001b[0;34m(\u001b[0m\u001b[0;34m)\u001b[0m\u001b[0;31m#performs back-prop\u001b[0m\u001b[0;34m\u001b[0m\u001b[0;34m\u001b[0m\u001b[0m\n\u001b[0m\u001b[1;32m     42\u001b[0m         \u001b[0moptimizer\u001b[0m\u001b[0;34m.\u001b[0m\u001b[0mstep\u001b[0m\u001b[0;34m(\u001b[0m\u001b[0;34m)\u001b[0m\u001b[0;31m#performs a single update\u001b[0m\u001b[0;34m\u001b[0m\u001b[0;34m\u001b[0m\u001b[0m\n\u001b[1;32m     43\u001b[0m \u001b[0;34m\u001b[0m\u001b[0m\n",
      "\u001b[0;32m~/opt/anaconda3/lib/python3.7/site-packages/torch/tensor.py\u001b[0m in \u001b[0;36mbackward\u001b[0;34m(self, gradient, retain_graph, create_graph)\u001b[0m\n\u001b[1;32m    196\u001b[0m                 \u001b[0mproducts\u001b[0m\u001b[0;34m.\u001b[0m \u001b[0mDefaults\u001b[0m \u001b[0mto\u001b[0m\u001b[0;31m \u001b[0m\u001b[0;31m`\u001b[0m\u001b[0;31m`\u001b[0m\u001b[0;32mFalse\u001b[0m\u001b[0;31m`\u001b[0m\u001b[0;31m`\u001b[0m\u001b[0;34m.\u001b[0m\u001b[0;34m\u001b[0m\u001b[0;34m\u001b[0m\u001b[0m\n\u001b[1;32m    197\u001b[0m         \"\"\"\n\u001b[0;32m--> 198\u001b[0;31m         \u001b[0mtorch\u001b[0m\u001b[0;34m.\u001b[0m\u001b[0mautograd\u001b[0m\u001b[0;34m.\u001b[0m\u001b[0mbackward\u001b[0m\u001b[0;34m(\u001b[0m\u001b[0mself\u001b[0m\u001b[0;34m,\u001b[0m \u001b[0mgradient\u001b[0m\u001b[0;34m,\u001b[0m \u001b[0mretain_graph\u001b[0m\u001b[0;34m,\u001b[0m \u001b[0mcreate_graph\u001b[0m\u001b[0;34m)\u001b[0m\u001b[0;34m\u001b[0m\u001b[0;34m\u001b[0m\u001b[0m\n\u001b[0m\u001b[1;32m    199\u001b[0m \u001b[0;34m\u001b[0m\u001b[0m\n\u001b[1;32m    200\u001b[0m     \u001b[0;32mdef\u001b[0m \u001b[0mregister_hook\u001b[0m\u001b[0;34m(\u001b[0m\u001b[0mself\u001b[0m\u001b[0;34m,\u001b[0m \u001b[0mhook\u001b[0m\u001b[0;34m)\u001b[0m\u001b[0;34m:\u001b[0m\u001b[0;34m\u001b[0m\u001b[0;34m\u001b[0m\u001b[0m\n",
      "\u001b[0;32m~/opt/anaconda3/lib/python3.7/site-packages/torch/autograd/__init__.py\u001b[0m in \u001b[0;36mbackward\u001b[0;34m(tensors, grad_tensors, retain_graph, create_graph, grad_variables)\u001b[0m\n\u001b[1;32m     98\u001b[0m     Variable._execution_engine.run_backward(\n\u001b[1;32m     99\u001b[0m         \u001b[0mtensors\u001b[0m\u001b[0;34m,\u001b[0m \u001b[0mgrad_tensors\u001b[0m\u001b[0;34m,\u001b[0m \u001b[0mretain_graph\u001b[0m\u001b[0;34m,\u001b[0m \u001b[0mcreate_graph\u001b[0m\u001b[0;34m,\u001b[0m\u001b[0;34m\u001b[0m\u001b[0;34m\u001b[0m\u001b[0m\n\u001b[0;32m--> 100\u001b[0;31m         allow_unreachable=True)  # allow_unreachable flag\n\u001b[0m\u001b[1;32m    101\u001b[0m \u001b[0;34m\u001b[0m\u001b[0m\n\u001b[1;32m    102\u001b[0m \u001b[0;34m\u001b[0m\u001b[0m\n",
      "\u001b[0;31mKeyboardInterrupt\u001b[0m: "
     ]
    }
   ],
   "source": [
    "scores = reinforce()"
   ]
  },
  {
   "cell_type": "code",
   "execution_count": 13,
   "metadata": {},
   "outputs": [
    {
     "ename": "NameError",
     "evalue": "name 'scores' is not defined",
     "output_type": "error",
     "traceback": [
      "\u001b[0;31m---------------------------------------------------------------------------\u001b[0m",
      "\u001b[0;31mNameError\u001b[0m                                 Traceback (most recent call last)",
      "\u001b[0;32m<ipython-input-13-eeda4ce2298a>\u001b[0m in \u001b[0;36m<module>\u001b[0;34m\u001b[0m\n\u001b[0;32m----> 1\u001b[0;31m \u001b[0mplt\u001b[0m\u001b[0;34m.\u001b[0m\u001b[0mplot\u001b[0m\u001b[0;34m(\u001b[0m\u001b[0mscores\u001b[0m\u001b[0;34m)\u001b[0m\u001b[0;34m\u001b[0m\u001b[0;34m\u001b[0m\u001b[0m\n\u001b[0m",
      "\u001b[0;31mNameError\u001b[0m: name 'scores' is not defined"
     ]
    }
   ],
   "source": [
    "plt.plot(scores)"
   ]
  },
  {
   "cell_type": "code",
   "execution_count": 18,
   "metadata": {},
   "outputs": [],
   "source": [
    "state = env.reset()\n",
    "total_reward = 0\n",
    "time.sleep(1)\n",
    "while True:\n",
    "    action, _ = policy.act(state)\n",
    "    env.render()\n",
    "    state, reward, done, _ = env.step(action)\n",
    "    total_reward += reward\n",
    "    if done:\n",
    "        break "
   ]
  },
  {
   "cell_type": "code",
   "execution_count": 19,
   "metadata": {},
   "outputs": [
    {
     "name": "stdout",
     "output_type": "stream",
     "text": [
      "7.739443575811791\n"
     ]
    }
   ],
   "source": [
    "print(total_reward)"
   ]
  },
  {
   "cell_type": "code",
   "execution_count": null,
   "metadata": {},
   "outputs": [],
   "source": []
  }
 ],
 "metadata": {
  "kernelspec": {
   "display_name": "Python 3",
   "language": "python",
   "name": "python3"
  },
  "language_info": {
   "codemirror_mode": {
    "name": "ipython",
    "version": 3
   },
   "file_extension": ".py",
   "mimetype": "text/x-python",
   "name": "python",
   "nbconvert_exporter": "python",
   "pygments_lexer": "ipython3",
   "version": "3.7.6"
  }
 },
 "nbformat": 4,
 "nbformat_minor": 4
}
